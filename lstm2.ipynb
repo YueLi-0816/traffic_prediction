{
 "cells": [
  {
   "cell_type": "code",
   "execution_count": 1,
   "id": "12694ed0-3797-42b0-9f89-94bfcd5dec82",
   "metadata": {},
   "outputs": [
    {
     "name": "stderr",
     "output_type": "stream",
     "text": [
      "2025-01-09 04:16:34.181387: I tensorflow/core/util/port.cc:153] oneDNN custom operations are on. You may see slightly different numerical results due to floating-point round-off errors from different computation orders. To turn them off, set the environment variable `TF_ENABLE_ONEDNN_OPTS=0`.\n",
      "2025-01-09 04:16:34.195672: E external/local_xla/xla/stream_executor/cuda/cuda_fft.cc:485] Unable to register cuFFT factory: Attempting to register factory for plugin cuFFT when one has already been registered\n",
      "2025-01-09 04:16:34.212366: E external/local_xla/xla/stream_executor/cuda/cuda_dnn.cc:8454] Unable to register cuDNN factory: Attempting to register factory for plugin cuDNN when one has already been registered\n",
      "2025-01-09 04:16:34.217252: E external/local_xla/xla/stream_executor/cuda/cuda_blas.cc:1452] Unable to register cuBLAS factory: Attempting to register factory for plugin cuBLAS when one has already been registered\n",
      "2025-01-09 04:16:34.229907: I tensorflow/core/platform/cpu_feature_guard.cc:210] This TensorFlow binary is optimized to use available CPU instructions in performance-critical operations.\n",
      "To enable the following instructions: AVX2 AVX512F AVX512_VNNI FMA, in other operations, rebuild TensorFlow with the appropriate compiler flags.\n",
      "2025-01-09 04:16:35.329412: W tensorflow/compiler/tf2tensorrt/utils/py_utils.cc:38] TF-TRT Warning: Could not find TensorRT\n"
     ]
    }
   ],
   "source": [
    "import numpy as np\n",
    "import pandas as pd\n",
    "from itertools import product\n",
    "from sklearn.preprocessing import MinMaxScaler\n",
    "import tensorflow as tf\n",
    "from tensorflow import keras\n",
    "import random\n",
    "from tensorflow.keras.callbacks import EarlyStopping\n",
    "from tensorflow.keras.models import Sequential\n",
    "from tensorflow.keras.layers import LSTM, Dense, Dropout\n",
    "from sklearn.metrics import mean_absolute_percentage_error, mean_absolute_error, mean_squared_error"
   ]
  },
  {
   "cell_type": "code",
   "execution_count": 2,
   "id": "65173c95-222a-44da-9723-0b6ac7f3450d",
   "metadata": {},
   "outputs": [
    {
     "name": "stdout",
     "output_type": "stream",
     "text": [
      "Num GPUs Available:  1\n"
     ]
    },
    {
     "data": {
      "text/plain": [
       "[PhysicalDevice(name='/physical_device:CPU:0', device_type='CPU'),\n",
       " PhysicalDevice(name='/physical_device:GPU:0', device_type='GPU')]"
      ]
     },
     "execution_count": 2,
     "metadata": {},
     "output_type": "execute_result"
    }
   ],
   "source": [
    "import tensorflow as tf\n",
    "print(\"Num GPUs Available: \", len(tf.config.list_physical_devices('GPU')))\n",
    "tf.config.list_physical_devices()"
   ]
  },
  {
   "cell_type": "code",
   "execution_count": 3,
   "id": "85ba9c88-5852-41b7-83ee-7d8bbf94ade5",
   "metadata": {},
   "outputs": [
    {
     "name": "stdout",
     "output_type": "stream",
     "text": [
      "Available GPUs:\n",
      " - /physical_device:GPU:0\n"
     ]
    }
   ],
   "source": [
    "# List all physical devices\n",
    "gpus = tf.config.list_physical_devices('GPU')\n",
    "print(\"Available GPUs:\")\n",
    "for gpu in gpus:\n",
    "    print(f\" - {gpu.name}\")"
   ]
  },
  {
   "cell_type": "code",
   "execution_count": 4,
   "id": "efcef730-e757-4497-b247-d0f535fdb146",
   "metadata": {},
   "outputs": [
    {
     "name": "stdout",
     "output_type": "stream",
     "text": [
      "Memory growth enabled for GPUs.\n"
     ]
    }
   ],
   "source": [
    "gpus = tf.config.list_physical_devices('GPU')\n",
    "if gpus:\n",
    "    try:\n",
    "        for gpu in gpus:\n",
    "            tf.config.experimental.set_memory_growth(gpu, True)\n",
    "        print(\"Memory growth enabled for GPUs.\")\n",
    "    except RuntimeError as e:\n",
    "        print(e)"
   ]
  },
  {
   "cell_type": "code",
   "execution_count": 5,
   "id": "c65fb16a-1d8e-4be9-88ec-39e68d65a585",
   "metadata": {},
   "outputs": [],
   "source": [
    "traffic_data = pd.read_csv('GD030A_S.csv')"
   ]
  },
  {
   "cell_type": "markdown",
   "id": "be55b421-06f4-4139-9300-a56a54dbae2c",
   "metadata": {},
   "source": [
    "## 1. Recover timestamp"
   ]
  },
  {
   "cell_type": "code",
   "execution_count": 6,
   "id": "f1617538-928e-4294-808b-0045cd1709c4",
   "metadata": {},
   "outputs": [],
   "source": [
    "# Define the recover_timestamp function\n",
    "def recover_timestamp(data):\n",
    "    # Combine 'date' and 'time' to form a datetime column\n",
    "    data['datetime'] = pd.to_datetime(data['date'] + ' ' + data['time'].astype(str) + ':00', format='%Y-%m-%d %H:%M')\n",
    "\n",
    "    # Set 'datetime' as index\n",
    "    data = data.set_index('datetime')\n",
    "\n",
    "    # Create a complete range of timestamps with hourly frequency\n",
    "    full_time_range = pd.date_range(start=data.index.min(), end=data.index.max(), freq='H')\n",
    "\n",
    "    # Reindex the data to include all timestamps, filling missing rows with NaN\n",
    "    data_full = data.reindex(full_time_range)\n",
    "\n",
    "    return data_full"
   ]
  },
  {
   "cell_type": "code",
   "execution_count": 7,
   "id": "ea0557c3-91b6-4945-8e7b-db8dd75c105d",
   "metadata": {},
   "outputs": [
    {
     "data": {
      "text/html": [
       "<div>\n",
       "<style scoped>\n",
       "    .dataframe tbody tr th:only-of-type {\n",
       "        vertical-align: middle;\n",
       "    }\n",
       "\n",
       "    .dataframe tbody tr th {\n",
       "        vertical-align: top;\n",
       "    }\n",
       "\n",
       "    .dataframe thead th {\n",
       "        text-align: right;\n",
       "    }\n",
       "</style>\n",
       "<table border=\"1\" class=\"dataframe\">\n",
       "  <thead>\n",
       "    <tr style=\"text-align: right;\">\n",
       "      <th></th>\n",
       "      <th>date</th>\n",
       "      <th>time</th>\n",
       "      <th>flow</th>\n",
       "    </tr>\n",
       "  </thead>\n",
       "  <tbody>\n",
       "    <tr>\n",
       "      <th>2019-10-01 00:00:00</th>\n",
       "      <td>2019-10-01</td>\n",
       "      <td>0.0</td>\n",
       "      <td>15.0</td>\n",
       "    </tr>\n",
       "    <tr>\n",
       "      <th>2019-10-01 01:00:00</th>\n",
       "      <td>2019-10-01</td>\n",
       "      <td>1.0</td>\n",
       "      <td>9.0</td>\n",
       "    </tr>\n",
       "    <tr>\n",
       "      <th>2019-10-01 02:00:00</th>\n",
       "      <td>2019-10-01</td>\n",
       "      <td>2.0</td>\n",
       "      <td>9.0</td>\n",
       "    </tr>\n",
       "    <tr>\n",
       "      <th>2019-10-01 03:00:00</th>\n",
       "      <td>2019-10-01</td>\n",
       "      <td>3.0</td>\n",
       "      <td>7.0</td>\n",
       "    </tr>\n",
       "    <tr>\n",
       "      <th>2019-10-01 04:00:00</th>\n",
       "      <td>2019-10-01</td>\n",
       "      <td>4.0</td>\n",
       "      <td>9.0</td>\n",
       "    </tr>\n",
       "    <tr>\n",
       "      <th>...</th>\n",
       "      <td>...</td>\n",
       "      <td>...</td>\n",
       "      <td>...</td>\n",
       "    </tr>\n",
       "    <tr>\n",
       "      <th>2023-09-30 19:00:00</th>\n",
       "      <td>2023-09-30</td>\n",
       "      <td>19.0</td>\n",
       "      <td>129.0</td>\n",
       "    </tr>\n",
       "    <tr>\n",
       "      <th>2023-09-30 20:00:00</th>\n",
       "      <td>2023-09-30</td>\n",
       "      <td>20.0</td>\n",
       "      <td>119.0</td>\n",
       "    </tr>\n",
       "    <tr>\n",
       "      <th>2023-09-30 21:00:00</th>\n",
       "      <td>2023-09-30</td>\n",
       "      <td>21.0</td>\n",
       "      <td>106.0</td>\n",
       "    </tr>\n",
       "    <tr>\n",
       "      <th>2023-09-30 22:00:00</th>\n",
       "      <td>2023-09-30</td>\n",
       "      <td>22.0</td>\n",
       "      <td>88.0</td>\n",
       "    </tr>\n",
       "    <tr>\n",
       "      <th>2023-09-30 23:00:00</th>\n",
       "      <td>2023-09-30</td>\n",
       "      <td>23.0</td>\n",
       "      <td>88.0</td>\n",
       "    </tr>\n",
       "  </tbody>\n",
       "</table>\n",
       "<p>35064 rows × 3 columns</p>\n",
       "</div>"
      ],
      "text/plain": [
       "                           date  time   flow\n",
       "2019-10-01 00:00:00  2019-10-01   0.0   15.0\n",
       "2019-10-01 01:00:00  2019-10-01   1.0    9.0\n",
       "2019-10-01 02:00:00  2019-10-01   2.0    9.0\n",
       "2019-10-01 03:00:00  2019-10-01   3.0    7.0\n",
       "2019-10-01 04:00:00  2019-10-01   4.0    9.0\n",
       "...                         ...   ...    ...\n",
       "2023-09-30 19:00:00  2023-09-30  19.0  129.0\n",
       "2023-09-30 20:00:00  2023-09-30  20.0  119.0\n",
       "2023-09-30 21:00:00  2023-09-30  21.0  106.0\n",
       "2023-09-30 22:00:00  2023-09-30  22.0   88.0\n",
       "2023-09-30 23:00:00  2023-09-30  23.0   88.0\n",
       "\n",
       "[35064 rows x 3 columns]"
      ]
     },
     "execution_count": 7,
     "metadata": {},
     "output_type": "execute_result"
    }
   ],
   "source": [
    "# Apply the recover_timestamp function to recover the full time series\n",
    "traffic_full = recover_timestamp(traffic_data)\n",
    "traffic_full"
   ]
  },
  {
   "cell_type": "markdown",
   "id": "dde078b7-fc8a-439d-8c86-72f91a55b594",
   "metadata": {},
   "source": [
    "## 2. Train, validate, test data split"
   ]
  },
  {
   "cell_type": "code",
   "execution_count": 8,
   "id": "e7675c35-a9a3-4582-a8a5-c068330cf12e",
   "metadata": {},
   "outputs": [
    {
     "name": "stdout",
     "output_type": "stream",
     "text": [
      "Proportion of train_set : 0.6037\n",
      "Proportion of valid_set : 0.2094\n",
      "Proportion of test_set : 0.1869\n"
     ]
    }
   ],
   "source": [
    "train_set = traffic_full[:'2022-02-28 23:00:00']\n",
    "valid_set = traffic_full['2022-03-01 00:00:00':'2022-12-31 23:00:00']\n",
    "test_set = traffic_full['2023-01-01 00:00:00':]\n",
    "print('Proportion of train_set : {:.4f}'.format(len(train_set)/len(traffic_full)))\n",
    "print('Proportion of valid_set : {:.4f}'.format(len(valid_set)/len(traffic_full)))\n",
    "print('Proportion of test_set : {:.4f}'.format(len(test_set)/len(traffic_full)))"
   ]
  },
  {
   "cell_type": "code",
   "execution_count": 9,
   "id": "26bd50c7-8c49-4cb6-a213-ad50b88d75ce",
   "metadata": {},
   "outputs": [
    {
     "name": "stdout",
     "output_type": "stream",
     "text": [
      "date    927\n",
      "time    927\n",
      "flow    927\n",
      "dtype: int64 21168\n",
      "date    91\n",
      "time    91\n",
      "flow    91\n",
      "dtype: int64 7344\n",
      "date    403\n",
      "time    403\n",
      "flow    403\n",
      "dtype: int64 6552\n"
     ]
    }
   ],
   "source": [
    "print(train_set.isnull().sum(), len(train_set))\n",
    "print(valid_set.isnull().sum(),len(valid_set))\n",
    "print(test_set.isnull().sum(),len(test_set))"
   ]
  },
  {
   "cell_type": "markdown",
   "id": "d6c92ad4-492f-4db5-a9cb-d181a50655f3",
   "metadata": {},
   "source": [
    "## 3. Normalise the data "
   ]
  },
  {
   "cell_type": "code",
   "execution_count": 10,
   "id": "134a58eb-e4f2-48b9-9234-dbd23851f706",
   "metadata": {},
   "outputs": [
    {
     "name": "stderr",
     "output_type": "stream",
     "text": [
      "/tmp/ipykernel_4038141/1100395100.py:8: SettingWithCopyWarning: \n",
      "A value is trying to be set on a copy of a slice from a DataFrame.\n",
      "Try using .loc[row_indexer,col_indexer] = value instead\n",
      "\n",
      "See the caveats in the documentation: https://pandas.pydata.org/pandas-docs/stable/user_guide/indexing.html#returning-a-view-versus-a-copy\n",
      "  train_set.loc[:, 'flow_scaled'] = scaler.transform(train_set[['flow']])\n",
      "/tmp/ipykernel_4038141/1100395100.py:9: SettingWithCopyWarning: \n",
      "A value is trying to be set on a copy of a slice from a DataFrame.\n",
      "Try using .loc[row_indexer,col_indexer] = value instead\n",
      "\n",
      "See the caveats in the documentation: https://pandas.pydata.org/pandas-docs/stable/user_guide/indexing.html#returning-a-view-versus-a-copy\n",
      "  valid_set.loc[:, 'flow_scaled'] = scaler.transform(valid_set[['flow']])\n",
      "/tmp/ipykernel_4038141/1100395100.py:10: SettingWithCopyWarning: \n",
      "A value is trying to be set on a copy of a slice from a DataFrame.\n",
      "Try using .loc[row_indexer,col_indexer] = value instead\n",
      "\n",
      "See the caveats in the documentation: https://pandas.pydata.org/pandas-docs/stable/user_guide/indexing.html#returning-a-view-versus-a-copy\n",
      "  test_set.loc[:, 'flow_scaled'] = scaler.transform(test_set[['flow']])\n"
     ]
    }
   ],
   "source": [
    "# Initialize the scaler\n",
    "scaler = MinMaxScaler()\n",
    "\n",
    "# Fit the scaler on the training data's 'flow' feature\n",
    "scaler.fit(train_set[['flow']])\n",
    "\n",
    "# Transform the 'flow' feature in all datasets\n",
    "train_set.loc[:, 'flow_scaled'] = scaler.transform(train_set[['flow']])\n",
    "valid_set.loc[:, 'flow_scaled'] = scaler.transform(valid_set[['flow']])\n",
    "test_set.loc[:, 'flow_scaled'] = scaler.transform(test_set[['flow']])"
   ]
  },
  {
   "cell_type": "markdown",
   "id": "793c7a71-d100-41cd-9cdb-2cf98d9bf06c",
   "metadata": {},
   "source": [
    "## 4. Split the data into X and y"
   ]
  },
  {
   "cell_type": "code",
   "execution_count": 11,
   "id": "7f2d4416-1fed-447b-b7a7-8ee33dea590f",
   "metadata": {},
   "outputs": [],
   "source": [
    "def create_sequences(data, input_length, forecast_horizon):\n",
    "    \"\"\"\n",
    "    Creates input-output sequences for time series data, excluding any sequences containing NaN values.\n",
    "    \n",
    "    Parameters:\n",
    "    - data: pandas DataFrame containing the data. Must include the 'flow_scaled' column.\n",
    "    - input_length: int, number of past time steps to include in each input sequence.\n",
    "    - forecast_horizon: int, number of future steps to predict.\n",
    "    \n",
    "    Returns:\n",
    "    - X: numpy array of shape (num_valid_samples, input_length, num_features)\n",
    "    - y: numpy array of shape (num_valid_samples, forecast_horizon)\n",
    "    \"\"\"\n",
    "    X, y = [], []\n",
    "    num_features = data.shape[1]\n",
    "    total_length = input_length + forecast_horizon\n",
    "    \n",
    "    for i in range(input_length, len(data) - forecast_horizon + 1):\n",
    "        # Extract the input sequence\n",
    "        X_seq = data.iloc[i - input_length:i]['flow_scaled'].values\n",
    "        # Extract the target sequence\n",
    "        y_seq = data.iloc[i:i + forecast_horizon]['flow_scaled'].values\n",
    "        \n",
    "        # Check for NaN values in the input sequence and target sequence\n",
    "        if not np.isnan(X_seq).any() and not np.isnan(y_seq).any():\n",
    "            X.append(X_seq)\n",
    "            y.append(y_seq)\n",
    "        else:\n",
    "            # Optionally, log or count the skipped sequences\n",
    "            pass  # Simply skip sequences with NaNs\n",
    "        \n",
    "    # Convert to numpy arrays and reshape X to match LSTM expected input (samples, timesteps, features)\n",
    "    X = np.array(X).reshape(-1, input_length, 1)\n",
    "    y = np.array(y).reshape(-1, forecast_horizon)\n",
    "    \n",
    "    return X, y"
   ]
  },
  {
   "cell_type": "markdown",
   "id": "ed938f79-fb77-4048-9b4d-548965c3258e",
   "metadata": {},
   "source": [
    "## 5. Create X and y"
   ]
  },
  {
   "cell_type": "code",
   "execution_count": 12,
   "id": "2c31feaa-e899-4787-aba2-974d7f96c324",
   "metadata": {},
   "outputs": [],
   "source": [
    "# Define Input Sequence Lengths\n",
    "input_lengths = [24 * i for i in range(1, 22)]  # [24, 48, ..., 168]"
   ]
  },
  {
   "cell_type": "code",
   "execution_count": 13,
   "id": "5524c3ee-4f4e-430c-a3f1-671a559180a3",
   "metadata": {},
   "outputs": [
    {
     "name": "stdout",
     "output_type": "stream",
     "text": [
      "Processing input length: 24\n",
      "  X_train shape: (19806, 24, 1), y_train shape: (19806, 6)\n",
      "  X_val shape: (7108, 24, 1), y_val shape: (7108, 6)\n",
      "  X_test shape: (5915, 24, 1), y_test shape: (5915, 6)\n",
      "\n",
      "Processing input length: 48\n",
      "  X_train shape: (19446, 48, 1), y_train shape: (19446, 6)\n",
      "  X_val shape: (6988, 48, 1), y_val shape: (6988, 6)\n",
      "  X_test shape: (5728, 48, 1), y_test shape: (5728, 6)\n",
      "\n",
      "Processing input length: 72\n",
      "  X_train shape: (19086, 72, 1), y_train shape: (19086, 6)\n",
      "  X_val shape: (6868, 72, 1), y_val shape: (6868, 6)\n",
      "  X_test shape: (5560, 72, 1), y_test shape: (5560, 6)\n",
      "\n",
      "Processing input length: 96\n",
      "  X_train shape: (18726, 96, 1), y_train shape: (18726, 6)\n",
      "  X_val shape: (6748, 96, 1), y_val shape: (6748, 6)\n",
      "  X_test shape: (5392, 96, 1), y_test shape: (5392, 6)\n",
      "\n",
      "Processing input length: 120\n",
      "  X_train shape: (18366, 120, 1), y_train shape: (18366, 6)\n",
      "  X_val shape: (6628, 120, 1), y_val shape: (6628, 6)\n",
      "  X_test shape: (5224, 120, 1), y_test shape: (5224, 6)\n",
      "\n",
      "Processing input length: 144\n",
      "  X_train shape: (18006, 144, 1), y_train shape: (18006, 6)\n",
      "  X_val shape: (6508, 144, 1), y_val shape: (6508, 6)\n",
      "  X_test shape: (5056, 144, 1), y_test shape: (5056, 6)\n",
      "\n",
      "Processing input length: 168\n",
      "  X_train shape: (17646, 168, 1), y_train shape: (17646, 6)\n",
      "  X_val shape: (6388, 168, 1), y_val shape: (6388, 6)\n",
      "  X_test shape: (4888, 168, 1), y_test shape: (4888, 6)\n",
      "\n",
      "Processing input length: 192\n",
      "  X_train shape: (17286, 192, 1), y_train shape: (17286, 6)\n",
      "  X_val shape: (6268, 192, 1), y_val shape: (6268, 6)\n",
      "  X_test shape: (4720, 192, 1), y_test shape: (4720, 6)\n",
      "\n",
      "Processing input length: 216\n",
      "  X_train shape: (16926, 216, 1), y_train shape: (16926, 6)\n",
      "  X_val shape: (6148, 216, 1), y_val shape: (6148, 6)\n",
      "  X_test shape: (4552, 216, 1), y_test shape: (4552, 6)\n",
      "\n",
      "Processing input length: 240\n",
      "  X_train shape: (16566, 240, 1), y_train shape: (16566, 6)\n",
      "  X_val shape: (6028, 240, 1), y_val shape: (6028, 6)\n",
      "  X_test shape: (4384, 240, 1), y_test shape: (4384, 6)\n",
      "\n",
      "Processing input length: 264\n",
      "  X_train shape: (16206, 264, 1), y_train shape: (16206, 6)\n",
      "  X_val shape: (5908, 264, 1), y_val shape: (5908, 6)\n",
      "  X_test shape: (4216, 264, 1), y_test shape: (4216, 6)\n",
      "\n",
      "Processing input length: 288\n",
      "  X_train shape: (15846, 288, 1), y_train shape: (15846, 6)\n",
      "  X_val shape: (5788, 288, 1), y_val shape: (5788, 6)\n",
      "  X_test shape: (4048, 288, 1), y_test shape: (4048, 6)\n",
      "\n",
      "Processing input length: 312\n",
      "  X_train shape: (15486, 312, 1), y_train shape: (15486, 6)\n",
      "  X_val shape: (5687, 312, 1), y_val shape: (5687, 6)\n",
      "  X_test shape: (3880, 312, 1), y_test shape: (3880, 6)\n",
      "\n",
      "Processing input length: 336\n",
      "  X_train shape: (15126, 336, 1), y_train shape: (15126, 6)\n",
      "  X_val shape: (5591, 336, 1), y_val shape: (5591, 6)\n",
      "  X_test shape: (3712, 336, 1), y_test shape: (3712, 6)\n",
      "\n",
      "Processing input length: 360\n",
      "  X_train shape: (14766, 360, 1), y_train shape: (14766, 6)\n",
      "  X_val shape: (5495, 360, 1), y_val shape: (5495, 6)\n",
      "  X_test shape: (3544, 360, 1), y_test shape: (3544, 6)\n",
      "\n",
      "Processing input length: 384\n",
      "  X_train shape: (14419, 384, 1), y_train shape: (14419, 6)\n",
      "  X_val shape: (5399, 384, 1), y_val shape: (5399, 6)\n",
      "  X_test shape: (3394, 384, 1), y_test shape: (3394, 6)\n",
      "\n",
      "Processing input length: 408\n",
      "  X_train shape: (14107, 408, 1), y_train shape: (14107, 6)\n",
      "  X_val shape: (5303, 408, 1), y_val shape: (5303, 6)\n",
      "  X_test shape: (3250, 408, 1), y_test shape: (3250, 6)\n",
      "\n",
      "Processing input length: 432\n",
      "  X_train shape: (13824, 432, 1), y_train shape: (13824, 6)\n",
      "  X_val shape: (5207, 432, 1), y_val shape: (5207, 6)\n",
      "  X_test shape: (3123, 432, 1), y_test shape: (3123, 6)\n",
      "\n",
      "Processing input length: 456\n",
      "  X_train shape: (13560, 456, 1), y_train shape: (13560, 6)\n",
      "  X_val shape: (5111, 456, 1), y_val shape: (5111, 6)\n",
      "  X_test shape: (3003, 456, 1), y_test shape: (3003, 6)\n",
      "\n",
      "Processing input length: 480\n",
      "  X_train shape: (13296, 480, 1), y_train shape: (13296, 6)\n",
      "  X_val shape: (5015, 480, 1), y_val shape: (5015, 6)\n",
      "  X_test shape: (2883, 480, 1), y_test shape: (2883, 6)\n",
      "\n",
      "Processing input length: 504\n",
      "  X_train shape: (13046, 504, 1), y_train shape: (13046, 6)\n",
      "  X_val shape: (4919, 504, 1), y_val shape: (4919, 6)\n",
      "  X_test shape: (2781, 504, 1), y_test shape: (2781, 6)\n",
      "\n"
     ]
    }
   ],
   "source": [
    "from collections import defaultdict\n",
    "data_dict = defaultdict(dict)\n",
    "\n",
    "for length in input_lengths:\n",
    "    print(f\"Processing input length: {length}\")\n",
    "    \n",
    "    # Create sequences with forecast_horizon=6\n",
    "    X_train, y_train = create_sequences(train_set, length, forecast_horizon=6)\n",
    "    X_val, y_val = create_sequences(valid_set, length, forecast_horizon=6)\n",
    "    X_test, y_test = create_sequences(test_set, length, forecast_horizon=6)\n",
    "    \n",
    "    # Store in the dictionary\n",
    "    data_dict[length]['X_train'] = X_train\n",
    "    data_dict[length]['y_train'] = y_train\n",
    "    data_dict[length]['X_val'] = X_val\n",
    "    data_dict[length]['y_val'] = y_val\n",
    "    data_dict[length]['X_test'] = X_test\n",
    "    data_dict[length]['y_test'] = y_test\n",
    "    \n",
    "    # Print shapes and ensure no NaNs\n",
    "    print(f\"  X_train shape: {X_train.shape}, y_train shape: {y_train.shape}\")\n",
    "    print(f\"  X_val shape: {X_val.shape}, y_val shape: {y_val.shape}\")\n",
    "    print(f\"  X_test shape: {X_test.shape}, y_test shape: {y_test.shape}\\n\")"
   ]
  },
  {
   "cell_type": "markdown",
   "id": "e8659baa-70e1-4028-a560-82ab00d5a99c",
   "metadata": {},
   "source": [
    "## 6. Build LSTM model"
   ]
  },
  {
   "cell_type": "code",
   "execution_count": 14,
   "id": "6fb696c6-1185-4239-aaa4-ced5d586c47e",
   "metadata": {},
   "outputs": [],
   "source": [
    "def build_improved_lstm_model(hyperparams, input_length):\n",
    "    \"\"\"\n",
    "    Builds an improved LSTM model based on provided hyperparameters and input length.\n",
    "\n",
    "    Parameters:\n",
    "    - hyperparams: dict containing 'units', 'dropout', 'learning_rate', and optionally 'recurrent_dropout'.\n",
    "    - input_length: int, length of the input sequences.\n",
    "\n",
    "    Returns:\n",
    "    - model: compiled Keras model ready for training.\n",
    "    \"\"\"\n",
    "    model = Sequential()\n",
    "    \n",
    "    # First LSTM layer with return_sequences=True to stack another LSTM layer\n",
    "    model.add(LSTM(\n",
    "        units=hyperparams['units'], \n",
    "        activation='tanh', \n",
    "        input_shape=(input_length, 1), \n",
    "        return_sequences=True, \n",
    "        #recurrent_dropout=hyperparams.get('recurrent_dropout', 0.0)\n",
    "    ))\n",
    "    model.add(Dropout(rate=hyperparams['dropout']))\n",
    "    \n",
    "    # Second LSTM layer\n",
    "    model.add(LSTM(\n",
    "        units=hyperparams['units'], \n",
    "        activation='tanh',\n",
    "        #recurrent_dropout=hyperparams.get('recurrent_dropout', 0.0)\n",
    "    ))\n",
    "    model.add(Dropout(rate=hyperparams['dropout']))\n",
    "    \n",
    "    # Output layer for multi-step forecasting\n",
    "    model.add(Dense(6))\n",
    "    \n",
    "    # Compile the model with MSE as the loss function\n",
    "    optimizer = keras.optimizers.Adam(learning_rate=hyperparams['learning_rate'])\n",
    "    model.compile(optimizer=optimizer, loss='mse', metrics=['mse'])\n",
    "    \n",
    "    return model\n"
   ]
  },
  {
   "cell_type": "markdown",
   "id": "8d97f513-eff7-4823-a894-2f414f2da7cb",
   "metadata": {},
   "source": [
    "## 7. Retrain the model after getting the best hyperparameters of each input length"
   ]
  },
  {
   "cell_type": "code",
   "execution_count": 15,
   "id": "ccef205d-3a06-4b9a-9bce-e095a5b78ef9",
   "metadata": {},
   "outputs": [],
   "source": [
    "best_hyperparameters_improved_model_lstm = {\n",
    "    24: {\n",
    "        'units': 64,\n",
    "        'dropout': 0.2,\n",
    "        'learning_rate': 0.001,\n",
    "        'batch_size': 32\n",
    "    },\n",
    "    48: {\n",
    "        'units': 256,\n",
    "        'dropout': 0.2,\n",
    "        'learning_rate': 0.01,\n",
    "        'batch_size': 32\n",
    "    },\n",
    "    72: {\n",
    "        'units': 256,\n",
    "        'dropout': 0.1,\n",
    "        'learning_rate': 0.001,\n",
    "        'batch_size': 128\n",
    "    },\n",
    "    96: {\n",
    "        'units': 256,\n",
    "        'dropout': 0.4,\n",
    "        'learning_rate': 0.001,\n",
    "        'batch_size': 32\n",
    "    },\n",
    "    120: {\n",
    "        'units': 128,\n",
    "        'dropout': 0.1,\n",
    "        'learning_rate': 0.001,\n",
    "        'batch_size': 64\n",
    "    },\n",
    "    144: {\n",
    "        'units': 256,\n",
    "        'dropout': 0.2,\n",
    "        'learning_rate': 0.001,\n",
    "        'batch_size': 64\n",
    "    },\n",
    "    168: {\n",
    "        'units': 256,\n",
    "        'dropout': 0.3,\n",
    "        'learning_rate': 0.001,\n",
    "        'batch_size': 64\n",
    "    },\n",
    "    192: {\n",
    "        'units': 256,\n",
    "        'dropout': 0.4,\n",
    "        'learning_rate': 0.001,\n",
    "        'batch_size': 32\n",
    "    },\n",
    "    216: {\n",
    "        'units': 256,\n",
    "        'dropout': 0.4,\n",
    "        'learning_rate': 0.001,\n",
    "        'batch_size': 32\n",
    "    },\n",
    "    240: {\n",
    "        'units': 64,\n",
    "        'dropout': 0.4,\n",
    "        'learning_rate': 0.005,\n",
    "        'batch_size': 64\n",
    "    },\n",
    "    264: {\n",
    "        'units': 256,\n",
    "        'dropout': 0.4,\n",
    "        'learning_rate': 0.001,\n",
    "        'batch_size': 32\n",
    "    },\n",
    "    288: {\n",
    "        'units': 64,\n",
    "        'dropout': 0.3,\n",
    "        'learning_rate': 0.001,\n",
    "        'batch_size': 64\n",
    "    },\n",
    "    312: {\n",
    "        'units': 32,\n",
    "        'dropout': 0.2,\n",
    "        'learning_rate': 0.001,\n",
    "        'batch_size': 32\n",
    "    },\n",
    "    336: {\n",
    "        'units': 256,\n",
    "        'dropout': 0.1,\n",
    "        'learning_rate': 0.01,\n",
    "        'batch_size': 64\n",
    "    },\n",
    "    360: {\n",
    "        'units': 32,\n",
    "        'dropout': 0.1,\n",
    "        'learning_rate': 0.001,\n",
    "        'batch_size': 32\n",
    "    },\n",
    "    384: {\n",
    "        'units': 256,\n",
    "        'dropout': 0.3,\n",
    "        'learning_rate': 0.001,\n",
    "        'batch_size': 64\n",
    "    },\n",
    "    408: {\n",
    "        'units': 256,\n",
    "        'dropout': 0.4,\n",
    "        'learning_rate': 0.001,\n",
    "        'batch_size': 64\n",
    "    },\n",
    "    432: {\n",
    "        'units': 128,\n",
    "        'dropout': 0.4,\n",
    "        'learning_rate': 0.001,\n",
    "        'batch_size': 64\n",
    "    },\n",
    "    456: {\n",
    "        'units': 128,\n",
    "        'dropout': 0.0,\n",
    "        'learning_rate': 0.001,\n",
    "        'batch_size': 32\n",
    "    },\n",
    "    480: {\n",
    "        'units': 256,\n",
    "        'dropout': 0.1,\n",
    "        'learning_rate': 0.001,\n",
    "        'batch_size': 64\n",
    "    },\n",
    "    504: {\n",
    "        'units': 128,\n",
    "        'dropout': 0.0,\n",
    "        'learning_rate': 0.001,\n",
    "        'batch_size': 32\n",
    "    }\n",
    "}\n"
   ]
  },
  {
   "cell_type": "code",
   "execution_count": 16,
   "id": "4d49aa75-5b2c-4403-a4a1-b52d7fb5235f",
   "metadata": {},
   "outputs": [],
   "source": [
    "import logging\n",
    "\n",
    "logging.basicConfig(\n",
    "    level=logging.INFO,  # Set the logging level to INFO\n",
    "    format='%(asctime)s - %(message)s',  # Customize the log message format\n",
    "    handlers=[\n",
    "        logging.FileHandler('lstm2.log'),  # Log messages to 'output.log'\n",
    "        logging.StreamHandler()             # Also output to console/notebook\n",
    "    ]\n",
    ")"
   ]
  },
  {
   "cell_type": "code",
   "execution_count": 17,
   "id": "7066272d-9f45-462a-8aef-fc844de786fb",
   "metadata": {},
   "outputs": [],
   "source": [
    "def set_seed(seed):\n",
    "    np.random.seed(seed)\n",
    "    random.seed(seed)\n",
    "    tf.random.set_seed(seed)"
   ]
  },
  {
   "cell_type": "code",
   "execution_count": 18,
   "id": "db2111a9-bd08-4b34-8600-066d494d98d7",
   "metadata": {},
   "outputs": [],
   "source": [
    "def train_model(hyperparams,data_dict,length, seed=None):  # add seed\n",
    "    if seed is not None:\n",
    "        set_seed(seed)\n",
    "    \n",
    "    #get the data of each length\n",
    "    X_train = data_dict[length]['X_train']\n",
    "    y_train = data_dict[length]['y_train']\n",
    "    X_val = data_dict[length]['X_val']\n",
    "    y_val = data_dict[length]['y_val']\n",
    "    \n",
    "    # Train the model\n",
    "    #model = build_lstm_model(hyperparams, length)    \n",
    "    model = build_improved_lstm_model(hyperparams, length)\n",
    "    # Early Stopping Callback\n",
    "    early_stop = EarlyStopping(monitor='val_loss', patience=20, restore_best_weights=True,verbose=1)    \n",
    "    \n",
    "    history = model.fit(\n",
    "        X_train, y_train,\n",
    "        epochs=100,\n",
    "        batch_size=hyperparams['batch_size'],\n",
    "        validation_data=(X_val, y_val),\n",
    "        callbacks=[early_stop],\n",
    "        verbose=0  # Set to 1 to see training progress\n",
    "    )\n",
    "    \n",
    "    # Retrieve the best validation MSE from the history\n",
    "    best_mse = min(history.history['val_loss'])\n",
    "    logging.info(f\"Validation loss: {best_mse:.5f}\")\n",
    "    \n",
    "    return model, best_mse"
   ]
  },
  {
   "cell_type": "code",
   "execution_count": 19,
   "id": "15349a11-9fcc-4935-9209-4230e33a00f8",
   "metadata": {},
   "outputs": [],
   "source": [
    "# Make predictions\n",
    "def make_prediction(model, X_obs, y_obs):\n",
    "    y_pred = model.predict(X_obs,verbose=0)\n",
    "    n_samples = X_obs.shape[0]\n",
    "    output_len = y_obs.shape[1]\n",
    "\n",
    "    # Reshape for inverse scaling\n",
    "    y_pred_reshaped = y_pred.reshape(-1, 1)\n",
    "    y_obs_reshaped = y_obs.reshape(-1, 1)\n",
    "\n",
    "    # Inverse transform\n",
    "    y_pred_inverse = scaler.inverse_transform(y_pred_reshaped).reshape(n_samples, output_len)\n",
    "    y_obs_inverse = scaler.inverse_transform(y_obs_reshaped).reshape(n_samples, output_len)\n",
    "\n",
    "    return y_pred_inverse, y_obs_inverse"
   ]
  },
  {
   "cell_type": "code",
   "execution_count": 20,
   "id": "527cdf8b-5e36-46a8-9ee5-dc35eabd2796",
   "metadata": {},
   "outputs": [],
   "source": [
    "# Compute Metrics for Each Time Step\n",
    "def evaluation(y_pred_inverse, y_obs_inverse):\n",
    "    \n",
    "    output_len = y_pred_inverse.shape[1]\n",
    "    metrics_list = []  # To store metrics for each time step\n",
    "    \n",
    "    for i in range(output_len):\n",
    "        y_true = y_obs_inverse[:, i]\n",
    "        y_pred = y_pred_inverse[:, i]\n",
    "\n",
    "        # Mean Absolute Error (MAE)\n",
    "        mae = mean_absolute_error(y_true, y_pred)\n",
    "\n",
    "        # Mean Squared Error (MSE)\n",
    "        mse = mean_squared_error(y_true, y_pred)\n",
    "\n",
    "        # Root Mean Squared Error (RMSE)\n",
    "        rmse = np.sqrt(mse)\n",
    "\n",
    "        # Mean Absolute Percentage Error (MAPE)\n",
    "        # Avoid division by zero by adding a small epsilon to y_test_flat if necessary\n",
    "        epsilon = 1e-10\n",
    "        y_true_safe = np.where(y_true == 0, epsilon, y_true)\n",
    "        mape = np.mean(np.abs((y_true - y_pred) / y_true_safe)) * 100\n",
    "\n",
    "                # Append the metrics for the current time step to the list\n",
    "        metrics_list.append({\n",
    "            'Time Step': i + 1,\n",
    "            'MAE': mae,\n",
    "            'RMSE': rmse,\n",
    "            'MAPE (%)': mape\n",
    "        })\n",
    "\n",
    "    # Create a DataFrame from the list of metrics\n",
    "    metrics_df = pd.DataFrame(metrics_list)\n",
    "    metrics_df.set_index('Time Step', inplace=True)\n",
    "\n",
    "    return metrics_df"
   ]
  },
  {
   "cell_type": "code",
   "execution_count": null,
   "id": "ac725bb0-90c3-4dcc-9372-34f4c5b6d383",
   "metadata": {
    "scrolled": true
   },
   "outputs": [
    {
     "name": "stderr",
     "output_type": "stream",
     "text": [
      "2025-01-09 04:18:04,995 - 24\n",
      "2025-01-09 04:18:04,996 - \n",
      "--- Run 1 ---\n",
      "2025-01-09 04:18:05.202507: I tensorflow/core/common_runtime/gpu/gpu_device.cc:2021] Created device /job:localhost/replica:0/task:0/device:GPU:0 with 18612 MB memory:  -> device: 0, name: NVIDIA A30, pci bus id: 276f:00:00.0, compute capability: 8.0\n",
      "/home/yl2672496l/Yue/code/jupyter_env/lib/python3.12/site-packages/keras/src/layers/rnn/rnn.py:204: UserWarning: Do not pass an `input_shape`/`input_dim` argument to a layer. When using Sequential models, prefer using an `Input(shape)` object as the first layer in the model instead.\n",
      "  super().__init__(**kwargs)\n",
      "2025-01-09 04:18:08.277144: I external/local_xla/xla/stream_executor/cuda/cuda_dnn.cc:531] Loaded cuDNN version 8907\n"
     ]
    },
    {
     "name": "stdout",
     "output_type": "stream",
     "text": [
      "Epoch 72: early stopping\n",
      "Restoring model weights from the end of the best epoch: 52.\n"
     ]
    },
    {
     "name": "stderr",
     "output_type": "stream",
     "text": [
      "2025-01-09 04:26:46,176 - Validation loss: 0.00593\n",
      "2025-01-09 04:26:49,989 - \n",
      "--- Run 2 ---\n",
      "/home/yl2672496l/Yue/code/jupyter_env/lib/python3.12/site-packages/keras/src/layers/rnn/rnn.py:204: UserWarning: Do not pass an `input_shape`/`input_dim` argument to a layer. When using Sequential models, prefer using an `Input(shape)` object as the first layer in the model instead.\n",
      "  super().__init__(**kwargs)\n"
     ]
    },
    {
     "name": "stdout",
     "output_type": "stream",
     "text": [
      "Epoch 86: early stopping\n",
      "Restoring model weights from the end of the best epoch: 66.\n"
     ]
    },
    {
     "name": "stderr",
     "output_type": "stream",
     "text": [
      "2025-01-09 04:36:32,982 - Validation loss: 0.00595\n",
      "2025-01-09 04:36:37,037 - \n",
      "--- Run 3 ---\n",
      "/home/yl2672496l/Yue/code/jupyter_env/lib/python3.12/site-packages/keras/src/layers/rnn/rnn.py:204: UserWarning: Do not pass an `input_shape`/`input_dim` argument to a layer. When using Sequential models, prefer using an `Input(shape)` object as the first layer in the model instead.\n",
      "  super().__init__(**kwargs)\n"
     ]
    },
    {
     "name": "stdout",
     "output_type": "stream",
     "text": [
      "Epoch 79: early stopping\n",
      "Restoring model weights from the end of the best epoch: 59.\n"
     ]
    },
    {
     "name": "stderr",
     "output_type": "stream",
     "text": [
      "2025-01-09 04:46:48,139 - Validation loss: 0.00580\n",
      "2025-01-09 04:46:52,206 - \n",
      "--- Run 4 ---\n",
      "/home/yl2672496l/Yue/code/jupyter_env/lib/python3.12/site-packages/keras/src/layers/rnn/rnn.py:204: UserWarning: Do not pass an `input_shape`/`input_dim` argument to a layer. When using Sequential models, prefer using an `Input(shape)` object as the first layer in the model instead.\n",
      "  super().__init__(**kwargs)\n"
     ]
    },
    {
     "name": "stdout",
     "output_type": "stream",
     "text": [
      "Epoch 66: early stopping\n",
      "Restoring model weights from the end of the best epoch: 46.\n"
     ]
    },
    {
     "name": "stderr",
     "output_type": "stream",
     "text": [
      "2025-01-09 04:55:52,043 - Validation loss: 0.00574\n",
      "2025-01-09 04:55:56,115 - \n",
      "--- Run 5 ---\n",
      "/home/yl2672496l/Yue/code/jupyter_env/lib/python3.12/site-packages/keras/src/layers/rnn/rnn.py:204: UserWarning: Do not pass an `input_shape`/`input_dim` argument to a layer. When using Sequential models, prefer using an `Input(shape)` object as the first layer in the model instead.\n",
      "  super().__init__(**kwargs)\n"
     ]
    },
    {
     "name": "stdout",
     "output_type": "stream",
     "text": [
      "Epoch 76: early stopping\n",
      "Restoring model weights from the end of the best epoch: 56.\n"
     ]
    },
    {
     "name": "stderr",
     "output_type": "stream",
     "text": [
      "2025-01-09 05:06:25,406 - Validation loss: 0.00580\n",
      "2025-01-09 05:06:29,422 - \n",
      "--- Run 6 ---\n",
      "/home/yl2672496l/Yue/code/jupyter_env/lib/python3.12/site-packages/keras/src/layers/rnn/rnn.py:204: UserWarning: Do not pass an `input_shape`/`input_dim` argument to a layer. When using Sequential models, prefer using an `Input(shape)` object as the first layer in the model instead.\n",
      "  super().__init__(**kwargs)\n"
     ]
    },
    {
     "name": "stdout",
     "output_type": "stream",
     "text": [
      "Epoch 63: early stopping\n",
      "Restoring model weights from the end of the best epoch: 43.\n"
     ]
    },
    {
     "name": "stderr",
     "output_type": "stream",
     "text": [
      "2025-01-09 05:15:29,823 - Validation loss: 0.00578\n",
      "2025-01-09 05:15:34,051 - \n",
      "--- Run 7 ---\n",
      "/home/yl2672496l/Yue/code/jupyter_env/lib/python3.12/site-packages/keras/src/layers/rnn/rnn.py:204: UserWarning: Do not pass an `input_shape`/`input_dim` argument to a layer. When using Sequential models, prefer using an `Input(shape)` object as the first layer in the model instead.\n",
      "  super().__init__(**kwargs)\n"
     ]
    },
    {
     "name": "stdout",
     "output_type": "stream",
     "text": [
      "Epoch 68: early stopping\n",
      "Restoring model weights from the end of the best epoch: 48.\n"
     ]
    },
    {
     "name": "stderr",
     "output_type": "stream",
     "text": [
      "2025-01-09 05:26:08,138 - Validation loss: 0.00591\n",
      "2025-01-09 05:26:12,002 - \n",
      "--- Run 8 ---\n",
      "/home/yl2672496l/Yue/code/jupyter_env/lib/python3.12/site-packages/keras/src/layers/rnn/rnn.py:204: UserWarning: Do not pass an `input_shape`/`input_dim` argument to a layer. When using Sequential models, prefer using an `Input(shape)` object as the first layer in the model instead.\n",
      "  super().__init__(**kwargs)\n"
     ]
    },
    {
     "name": "stdout",
     "output_type": "stream",
     "text": [
      "Epoch 65: early stopping\n",
      "Restoring model weights from the end of the best epoch: 45.\n"
     ]
    },
    {
     "name": "stderr",
     "output_type": "stream",
     "text": [
      "2025-01-09 05:35:57,998 - Validation loss: 0.00581\n",
      "2025-01-09 05:36:02,230 - \n",
      "--- Run 9 ---\n",
      "/home/yl2672496l/Yue/code/jupyter_env/lib/python3.12/site-packages/keras/src/layers/rnn/rnn.py:204: UserWarning: Do not pass an `input_shape`/`input_dim` argument to a layer. When using Sequential models, prefer using an `Input(shape)` object as the first layer in the model instead.\n",
      "  super().__init__(**kwargs)\n"
     ]
    },
    {
     "name": "stdout",
     "output_type": "stream",
     "text": [
      "Epoch 81: early stopping\n",
      "Restoring model weights from the end of the best epoch: 61.\n"
     ]
    },
    {
     "name": "stderr",
     "output_type": "stream",
     "text": [
      "2025-01-09 05:48:03,354 - Validation loss: 0.00572\n",
      "2025-01-09 05:48:07,641 - \n",
      "--- Run 10 ---\n",
      "/home/yl2672496l/Yue/code/jupyter_env/lib/python3.12/site-packages/keras/src/layers/rnn/rnn.py:204: UserWarning: Do not pass an `input_shape`/`input_dim` argument to a layer. When using Sequential models, prefer using an `Input(shape)` object as the first layer in the model instead.\n",
      "  super().__init__(**kwargs)\n"
     ]
    },
    {
     "name": "stdout",
     "output_type": "stream",
     "text": [
      "Epoch 66: early stopping\n",
      "Restoring model weights from the end of the best epoch: 46.\n"
     ]
    },
    {
     "name": "stderr",
     "output_type": "stream",
     "text": [
      "2025-01-09 05:57:47,647 - Validation loss: 0.00594\n",
      "2025-01-09 05:57:52,001 - \n",
      "--- Aggregated Mean of All Metrics Across 10(Successful) Runs ---\n",
      "2025-01-09 05:57:52,004 - \n",
      " MAE_train  RMSE_train  MAPE (%)_train   MAE_val  RMSE_val  MAPE (%)_val  MAE_test  RMSE_test  MAPE (%)_test\n",
      " 22.907106   32.069606    7.455691e+10 20.861006 32.247095     38.358877 22.904381  33.237082      26.900769\n",
      " 25.212608   35.473405    1.206191e+11 23.232720 36.871149     42.251573 26.379164  38.691385      30.707837\n",
      " 26.637028   37.486204    1.565179e+11 24.479816 39.286775     45.731592 28.305923  41.497392      33.981775\n",
      " 27.275202   38.512002    1.757934e+11 25.045882 40.616910     47.626319 29.382252  43.273759      35.839845\n",
      " 28.194124   39.816366    1.984042e+11 25.551895 41.497485     51.388960 30.282175  44.693641      38.718353\n",
      " 29.125494   41.100228    2.181764e+11 26.257530 42.379002     55.193810 31.232502  46.122187      41.100327\n"
     ]
    },
    {
     "data": {
      "text/html": [
       "<div>\n",
       "<style scoped>\n",
       "    .dataframe tbody tr th:only-of-type {\n",
       "        vertical-align: middle;\n",
       "    }\n",
       "\n",
       "    .dataframe tbody tr th {\n",
       "        vertical-align: top;\n",
       "    }\n",
       "\n",
       "    .dataframe thead th {\n",
       "        text-align: right;\n",
       "    }\n",
       "</style>\n",
       "<table border=\"1\" class=\"dataframe\">\n",
       "  <thead>\n",
       "    <tr style=\"text-align: right;\">\n",
       "      <th></th>\n",
       "      <th>MAE_train</th>\n",
       "      <th>RMSE_train</th>\n",
       "      <th>MAPE (%)_train</th>\n",
       "      <th>MAE_val</th>\n",
       "      <th>RMSE_val</th>\n",
       "      <th>MAPE (%)_val</th>\n",
       "      <th>MAE_test</th>\n",
       "      <th>RMSE_test</th>\n",
       "      <th>MAPE (%)_test</th>\n",
       "    </tr>\n",
       "    <tr>\n",
       "      <th>24</th>\n",
       "      <th></th>\n",
       "      <th></th>\n",
       "      <th></th>\n",
       "      <th></th>\n",
       "      <th></th>\n",
       "      <th></th>\n",
       "      <th></th>\n",
       "      <th></th>\n",
       "      <th></th>\n",
       "    </tr>\n",
       "  </thead>\n",
       "  <tbody>\n",
       "    <tr>\n",
       "      <th>1</th>\n",
       "      <td>22.907106</td>\n",
       "      <td>32.069606</td>\n",
       "      <td>7.455691e+10</td>\n",
       "      <td>20.861006</td>\n",
       "      <td>32.247095</td>\n",
       "      <td>38.358877</td>\n",
       "      <td>22.904381</td>\n",
       "      <td>33.237082</td>\n",
       "      <td>26.900769</td>\n",
       "    </tr>\n",
       "    <tr>\n",
       "      <th>2</th>\n",
       "      <td>25.212608</td>\n",
       "      <td>35.473405</td>\n",
       "      <td>1.206191e+11</td>\n",
       "      <td>23.232720</td>\n",
       "      <td>36.871149</td>\n",
       "      <td>42.251573</td>\n",
       "      <td>26.379164</td>\n",
       "      <td>38.691385</td>\n",
       "      <td>30.707837</td>\n",
       "    </tr>\n",
       "    <tr>\n",
       "      <th>3</th>\n",
       "      <td>26.637028</td>\n",
       "      <td>37.486204</td>\n",
       "      <td>1.565179e+11</td>\n",
       "      <td>24.479816</td>\n",
       "      <td>39.286775</td>\n",
       "      <td>45.731592</td>\n",
       "      <td>28.305923</td>\n",
       "      <td>41.497392</td>\n",
       "      <td>33.981775</td>\n",
       "    </tr>\n",
       "    <tr>\n",
       "      <th>4</th>\n",
       "      <td>27.275202</td>\n",
       "      <td>38.512002</td>\n",
       "      <td>1.757934e+11</td>\n",
       "      <td>25.045882</td>\n",
       "      <td>40.616910</td>\n",
       "      <td>47.626319</td>\n",
       "      <td>29.382252</td>\n",
       "      <td>43.273759</td>\n",
       "      <td>35.839845</td>\n",
       "    </tr>\n",
       "    <tr>\n",
       "      <th>5</th>\n",
       "      <td>28.194124</td>\n",
       "      <td>39.816366</td>\n",
       "      <td>1.984042e+11</td>\n",
       "      <td>25.551895</td>\n",
       "      <td>41.497485</td>\n",
       "      <td>51.388960</td>\n",
       "      <td>30.282175</td>\n",
       "      <td>44.693641</td>\n",
       "      <td>38.718353</td>\n",
       "    </tr>\n",
       "    <tr>\n",
       "      <th>6</th>\n",
       "      <td>29.125494</td>\n",
       "      <td>41.100228</td>\n",
       "      <td>2.181764e+11</td>\n",
       "      <td>26.257530</td>\n",
       "      <td>42.379002</td>\n",
       "      <td>55.193810</td>\n",
       "      <td>31.232502</td>\n",
       "      <td>46.122187</td>\n",
       "      <td>41.100327</td>\n",
       "    </tr>\n",
       "  </tbody>\n",
       "</table>\n",
       "</div>"
      ],
      "text/plain": [
       "    MAE_train  RMSE_train  MAPE (%)_train    MAE_val   RMSE_val  MAPE (%)_val  \\\n",
       "24                                                                              \n",
       "1   22.907106   32.069606    7.455691e+10  20.861006  32.247095     38.358877   \n",
       "2   25.212608   35.473405    1.206191e+11  23.232720  36.871149     42.251573   \n",
       "3   26.637028   37.486204    1.565179e+11  24.479816  39.286775     45.731592   \n",
       "4   27.275202   38.512002    1.757934e+11  25.045882  40.616910     47.626319   \n",
       "5   28.194124   39.816366    1.984042e+11  25.551895  41.497485     51.388960   \n",
       "6   29.125494   41.100228    2.181764e+11  26.257530  42.379002     55.193810   \n",
       "\n",
       "     MAE_test  RMSE_test  MAPE (%)_test  \n",
       "24                                       \n",
       "1   22.904381  33.237082      26.900769  \n",
       "2   26.379164  38.691385      30.707837  \n",
       "3   28.305923  41.497392      33.981775  \n",
       "4   29.382252  43.273759      35.839845  \n",
       "5   30.282175  44.693641      38.718353  \n",
       "6   31.232502  46.122187      41.100327  "
      ]
     },
     "metadata": {},
     "output_type": "display_data"
    },
    {
     "name": "stderr",
     "output_type": "stream",
     "text": [
      "2025-01-09 05:57:52,021 - 48\n",
      "2025-01-09 05:57:52,023 - \n",
      "--- Run 1 ---\n",
      "/home/yl2672496l/Yue/code/jupyter_env/lib/python3.12/site-packages/keras/src/layers/rnn/rnn.py:204: UserWarning: Do not pass an `input_shape`/`input_dim` argument to a layer. When using Sequential models, prefer using an `Input(shape)` object as the first layer in the model instead.\n",
      "  super().__init__(**kwargs)\n"
     ]
    },
    {
     "name": "stdout",
     "output_type": "stream",
     "text": [
      "Epoch 37: early stopping\n",
      "Restoring model weights from the end of the best epoch: 17.\n"
     ]
    },
    {
     "name": "stderr",
     "output_type": "stream",
     "text": [
      "2025-01-09 06:04:25,261 - Validation loss: 0.00580\n",
      "2025-01-09 06:04:30,296 - \n",
      "--- Run 2 ---\n",
      "/home/yl2672496l/Yue/code/jupyter_env/lib/python3.12/site-packages/keras/src/layers/rnn/rnn.py:204: UserWarning: Do not pass an `input_shape`/`input_dim` argument to a layer. When using Sequential models, prefer using an `Input(shape)` object as the first layer in the model instead.\n",
      "  super().__init__(**kwargs)\n"
     ]
    },
    {
     "name": "stdout",
     "output_type": "stream",
     "text": [
      "Epoch 40: early stopping\n",
      "Restoring model weights from the end of the best epoch: 20.\n"
     ]
    },
    {
     "name": "stderr",
     "output_type": "stream",
     "text": [
      "2025-01-09 06:11:17,690 - Validation loss: 0.00587\n",
      "2025-01-09 06:11:23,076 - \n",
      "--- Run 3 ---\n",
      "/home/yl2672496l/Yue/code/jupyter_env/lib/python3.12/site-packages/keras/src/layers/rnn/rnn.py:204: UserWarning: Do not pass an `input_shape`/`input_dim` argument to a layer. When using Sequential models, prefer using an `Input(shape)` object as the first layer in the model instead.\n",
      "  super().__init__(**kwargs)\n"
     ]
    },
    {
     "name": "stdout",
     "output_type": "stream",
     "text": [
      "Epoch 34: early stopping\n",
      "Restoring model weights from the end of the best epoch: 14.\n"
     ]
    },
    {
     "name": "stderr",
     "output_type": "stream",
     "text": [
      "2025-01-09 06:17:27,778 - Validation loss: 0.00564\n",
      "2025-01-09 06:17:33,018 - \n",
      "--- Run 4 ---\n",
      "/home/yl2672496l/Yue/code/jupyter_env/lib/python3.12/site-packages/keras/src/layers/rnn/rnn.py:204: UserWarning: Do not pass an `input_shape`/`input_dim` argument to a layer. When using Sequential models, prefer using an `Input(shape)` object as the first layer in the model instead.\n",
      "  super().__init__(**kwargs)\n"
     ]
    },
    {
     "name": "stdout",
     "output_type": "stream",
     "text": [
      "Epoch 61: early stopping\n",
      "Restoring model weights from the end of the best epoch: 41.\n"
     ]
    },
    {
     "name": "stderr",
     "output_type": "stream",
     "text": [
      "2025-01-09 06:28:25,854 - Validation loss: 0.01326\n",
      "2025-01-09 06:28:31,094 - \n",
      "--- Run 5 ---\n",
      "/home/yl2672496l/Yue/code/jupyter_env/lib/python3.12/site-packages/keras/src/layers/rnn/rnn.py:204: UserWarning: Do not pass an `input_shape`/`input_dim` argument to a layer. When using Sequential models, prefer using an `Input(shape)` object as the first layer in the model instead.\n",
      "  super().__init__(**kwargs)\n"
     ]
    },
    {
     "name": "stdout",
     "output_type": "stream",
     "text": [
      "Epoch 48: early stopping\n",
      "Restoring model weights from the end of the best epoch: 28.\n"
     ]
    },
    {
     "name": "stderr",
     "output_type": "stream",
     "text": [
      "2025-01-09 06:36:56,257 - Validation loss: 0.00559\n",
      "2025-01-09 06:37:01,584 - \n",
      "--- Run 6 ---\n",
      "/home/yl2672496l/Yue/code/jupyter_env/lib/python3.12/site-packages/keras/src/layers/rnn/rnn.py:204: UserWarning: Do not pass an `input_shape`/`input_dim` argument to a layer. When using Sequential models, prefer using an `Input(shape)` object as the first layer in the model instead.\n",
      "  super().__init__(**kwargs)\n"
     ]
    },
    {
     "name": "stdout",
     "output_type": "stream",
     "text": [
      "Epoch 23: early stopping\n",
      "Restoring model weights from the end of the best epoch: 3.\n"
     ]
    },
    {
     "name": "stderr",
     "output_type": "stream",
     "text": [
      "2025-01-09 06:41:00,202 - Validation loss: 0.01967\n",
      "2025-01-09 06:41:05,509 - \n",
      "--- Run 7 ---\n",
      "/home/yl2672496l/Yue/code/jupyter_env/lib/python3.12/site-packages/keras/src/layers/rnn/rnn.py:204: UserWarning: Do not pass an `input_shape`/`input_dim` argument to a layer. When using Sequential models, prefer using an `Input(shape)` object as the first layer in the model instead.\n",
      "  super().__init__(**kwargs)\n"
     ]
    },
    {
     "name": "stdout",
     "output_type": "stream",
     "text": [
      "Epoch 53: early stopping\n",
      "Restoring model weights from the end of the best epoch: 33.\n"
     ]
    },
    {
     "name": "stderr",
     "output_type": "stream",
     "text": [
      "2025-01-09 06:50:15,243 - Validation loss: 0.00552\n",
      "2025-01-09 06:50:20,462 - \n",
      "--- Run 8 ---\n",
      "/home/yl2672496l/Yue/code/jupyter_env/lib/python3.12/site-packages/keras/src/layers/rnn/rnn.py:204: UserWarning: Do not pass an `input_shape`/`input_dim` argument to a layer. When using Sequential models, prefer using an `Input(shape)` object as the first layer in the model instead.\n",
      "  super().__init__(**kwargs)\n"
     ]
    },
    {
     "name": "stdout",
     "output_type": "stream",
     "text": [
      "Epoch 44: early stopping\n",
      "Restoring model weights from the end of the best epoch: 24.\n"
     ]
    },
    {
     "name": "stderr",
     "output_type": "stream",
     "text": [
      "2025-01-09 06:57:59,113 - Validation loss: 0.00570\n",
      "2025-01-09 06:58:04,532 - \n",
      "--- Run 9 ---\n",
      "/home/yl2672496l/Yue/code/jupyter_env/lib/python3.12/site-packages/keras/src/layers/rnn/rnn.py:204: UserWarning: Do not pass an `input_shape`/`input_dim` argument to a layer. When using Sequential models, prefer using an `Input(shape)` object as the first layer in the model instead.\n",
      "  super().__init__(**kwargs)\n"
     ]
    },
    {
     "name": "stdout",
     "output_type": "stream",
     "text": [
      "Epoch 40: early stopping\n",
      "Restoring model weights from the end of the best epoch: 20.\n"
     ]
    },
    {
     "name": "stderr",
     "output_type": "stream",
     "text": [
      "2025-01-09 07:05:09,843 - Validation loss: 0.00567\n",
      "2025-01-09 07:05:15,321 - \n",
      "--- Run 10 ---\n",
      "/home/yl2672496l/Yue/code/jupyter_env/lib/python3.12/site-packages/keras/src/layers/rnn/rnn.py:204: UserWarning: Do not pass an `input_shape`/`input_dim` argument to a layer. When using Sequential models, prefer using an `Input(shape)` object as the first layer in the model instead.\n",
      "  super().__init__(**kwargs)\n"
     ]
    },
    {
     "name": "stdout",
     "output_type": "stream",
     "text": [
      "Epoch 41: early stopping\n",
      "Restoring model weights from the end of the best epoch: 21.\n"
     ]
    },
    {
     "name": "stderr",
     "output_type": "stream",
     "text": [
      "2025-01-09 07:12:53,073 - Validation loss: 0.00574\n",
      "2025-01-09 07:12:58,647 - \n",
      "--- Aggregated Mean of All Metrics Across 10(Successful) Runs ---\n",
      "2025-01-09 07:12:58,650 - \n",
      " MAE_train  RMSE_train  MAPE (%)_train   MAE_val  RMSE_val  MAPE (%)_val  MAE_test  RMSE_test  MAPE (%)_test\n",
      " 29.520270   40.288884    1.094725e+11 25.828811 37.947781     60.494970 28.472036  40.253431      38.975361\n",
      " 31.389985   43.060981    1.396529e+11 27.885205 41.742396     62.953143 31.541250  45.009875      42.032715\n",
      " 32.694977   44.830896    1.619273e+11 28.926176 43.576025     64.275727 33.201626  47.339935      43.722349\n",
      " 33.997145   45.993082    1.851534e+11 30.366076 44.874476     72.599455 34.610442  48.831394      48.552608\n",
      " 35.192981   47.183121    2.055001e+11 31.635624 46.058433     80.696225 35.905973  50.284138      53.508152\n",
      " 36.309691   48.234046    2.288940e+11 33.162654 47.717849     94.259818 36.835540  51.373595      60.025666\n"
     ]
    },
    {
     "data": {
      "text/html": [
       "<div>\n",
       "<style scoped>\n",
       "    .dataframe tbody tr th:only-of-type {\n",
       "        vertical-align: middle;\n",
       "    }\n",
       "\n",
       "    .dataframe tbody tr th {\n",
       "        vertical-align: top;\n",
       "    }\n",
       "\n",
       "    .dataframe thead th {\n",
       "        text-align: right;\n",
       "    }\n",
       "</style>\n",
       "<table border=\"1\" class=\"dataframe\">\n",
       "  <thead>\n",
       "    <tr style=\"text-align: right;\">\n",
       "      <th></th>\n",
       "      <th>MAE_train</th>\n",
       "      <th>RMSE_train</th>\n",
       "      <th>MAPE (%)_train</th>\n",
       "      <th>MAE_val</th>\n",
       "      <th>RMSE_val</th>\n",
       "      <th>MAPE (%)_val</th>\n",
       "      <th>MAE_test</th>\n",
       "      <th>RMSE_test</th>\n",
       "      <th>MAPE (%)_test</th>\n",
       "    </tr>\n",
       "    <tr>\n",
       "      <th>48</th>\n",
       "      <th></th>\n",
       "      <th></th>\n",
       "      <th></th>\n",
       "      <th></th>\n",
       "      <th></th>\n",
       "      <th></th>\n",
       "      <th></th>\n",
       "      <th></th>\n",
       "      <th></th>\n",
       "    </tr>\n",
       "  </thead>\n",
       "  <tbody>\n",
       "    <tr>\n",
       "      <th>1</th>\n",
       "      <td>29.520270</td>\n",
       "      <td>40.288884</td>\n",
       "      <td>1.094725e+11</td>\n",
       "      <td>25.828811</td>\n",
       "      <td>37.947781</td>\n",
       "      <td>60.494970</td>\n",
       "      <td>28.472036</td>\n",
       "      <td>40.253431</td>\n",
       "      <td>38.975361</td>\n",
       "    </tr>\n",
       "    <tr>\n",
       "      <th>2</th>\n",
       "      <td>31.389985</td>\n",
       "      <td>43.060981</td>\n",
       "      <td>1.396529e+11</td>\n",
       "      <td>27.885205</td>\n",
       "      <td>41.742396</td>\n",
       "      <td>62.953143</td>\n",
       "      <td>31.541250</td>\n",
       "      <td>45.009875</td>\n",
       "      <td>42.032715</td>\n",
       "    </tr>\n",
       "    <tr>\n",
       "      <th>3</th>\n",
       "      <td>32.694977</td>\n",
       "      <td>44.830896</td>\n",
       "      <td>1.619273e+11</td>\n",
       "      <td>28.926176</td>\n",
       "      <td>43.576025</td>\n",
       "      <td>64.275727</td>\n",
       "      <td>33.201626</td>\n",
       "      <td>47.339935</td>\n",
       "      <td>43.722349</td>\n",
       "    </tr>\n",
       "    <tr>\n",
       "      <th>4</th>\n",
       "      <td>33.997145</td>\n",
       "      <td>45.993082</td>\n",
       "      <td>1.851534e+11</td>\n",
       "      <td>30.366076</td>\n",
       "      <td>44.874476</td>\n",
       "      <td>72.599455</td>\n",
       "      <td>34.610442</td>\n",
       "      <td>48.831394</td>\n",
       "      <td>48.552608</td>\n",
       "    </tr>\n",
       "    <tr>\n",
       "      <th>5</th>\n",
       "      <td>35.192981</td>\n",
       "      <td>47.183121</td>\n",
       "      <td>2.055001e+11</td>\n",
       "      <td>31.635624</td>\n",
       "      <td>46.058433</td>\n",
       "      <td>80.696225</td>\n",
       "      <td>35.905973</td>\n",
       "      <td>50.284138</td>\n",
       "      <td>53.508152</td>\n",
       "    </tr>\n",
       "    <tr>\n",
       "      <th>6</th>\n",
       "      <td>36.309691</td>\n",
       "      <td>48.234046</td>\n",
       "      <td>2.288940e+11</td>\n",
       "      <td>33.162654</td>\n",
       "      <td>47.717849</td>\n",
       "      <td>94.259818</td>\n",
       "      <td>36.835540</td>\n",
       "      <td>51.373595</td>\n",
       "      <td>60.025666</td>\n",
       "    </tr>\n",
       "  </tbody>\n",
       "</table>\n",
       "</div>"
      ],
      "text/plain": [
       "    MAE_train  RMSE_train  MAPE (%)_train    MAE_val   RMSE_val  MAPE (%)_val  \\\n",
       "48                                                                              \n",
       "1   29.520270   40.288884    1.094725e+11  25.828811  37.947781     60.494970   \n",
       "2   31.389985   43.060981    1.396529e+11  27.885205  41.742396     62.953143   \n",
       "3   32.694977   44.830896    1.619273e+11  28.926176  43.576025     64.275727   \n",
       "4   33.997145   45.993082    1.851534e+11  30.366076  44.874476     72.599455   \n",
       "5   35.192981   47.183121    2.055001e+11  31.635624  46.058433     80.696225   \n",
       "6   36.309691   48.234046    2.288940e+11  33.162654  47.717849     94.259818   \n",
       "\n",
       "     MAE_test  RMSE_test  MAPE (%)_test  \n",
       "48                                       \n",
       "1   28.472036  40.253431      38.975361  \n",
       "2   31.541250  45.009875      42.032715  \n",
       "3   33.201626  47.339935      43.722349  \n",
       "4   34.610442  48.831394      48.552608  \n",
       "5   35.905973  50.284138      53.508152  \n",
       "6   36.835540  51.373595      60.025666  "
      ]
     },
     "metadata": {},
     "output_type": "display_data"
    },
    {
     "name": "stderr",
     "output_type": "stream",
     "text": [
      "2025-01-09 07:12:58,663 - 72\n",
      "2025-01-09 07:12:58,665 - \n",
      "--- Run 1 ---\n",
      "/home/yl2672496l/Yue/code/jupyter_env/lib/python3.12/site-packages/keras/src/layers/rnn/rnn.py:204: UserWarning: Do not pass an `input_shape`/`input_dim` argument to a layer. When using Sequential models, prefer using an `Input(shape)` object as the first layer in the model instead.\n",
      "  super().__init__(**kwargs)\n"
     ]
    },
    {
     "name": "stdout",
     "output_type": "stream",
     "text": [
      "Epoch 40: early stopping\n",
      "Restoring model weights from the end of the best epoch: 20.\n"
     ]
    },
    {
     "name": "stderr",
     "output_type": "stream",
     "text": [
      "2025-01-09 07:15:13,772 - Validation loss: 0.00560\n",
      "2025-01-09 07:15:20,179 - \n",
      "--- Run 2 ---\n",
      "/home/yl2672496l/Yue/code/jupyter_env/lib/python3.12/site-packages/keras/src/layers/rnn/rnn.py:204: UserWarning: Do not pass an `input_shape`/`input_dim` argument to a layer. When using Sequential models, prefer using an `Input(shape)` object as the first layer in the model instead.\n",
      "  super().__init__(**kwargs)\n"
     ]
    },
    {
     "name": "stdout",
     "output_type": "stream",
     "text": [
      "Epoch 59: early stopping\n",
      "Restoring model weights from the end of the best epoch: 39.\n"
     ]
    },
    {
     "name": "stderr",
     "output_type": "stream",
     "text": [
      "2025-01-09 07:18:40,754 - Validation loss: 0.00556\n",
      "2025-01-09 07:18:47,372 - \n",
      "--- Run 3 ---\n",
      "/home/yl2672496l/Yue/code/jupyter_env/lib/python3.12/site-packages/keras/src/layers/rnn/rnn.py:204: UserWarning: Do not pass an `input_shape`/`input_dim` argument to a layer. When using Sequential models, prefer using an `Input(shape)` object as the first layer in the model instead.\n",
      "  super().__init__(**kwargs)\n"
     ]
    },
    {
     "name": "stdout",
     "output_type": "stream",
     "text": [
      "Epoch 63: early stopping\n",
      "Restoring model weights from the end of the best epoch: 43.\n"
     ]
    },
    {
     "name": "stderr",
     "output_type": "stream",
     "text": [
      "2025-01-09 07:22:23,048 - Validation loss: 0.00545\n",
      "2025-01-09 07:22:29,482 - \n",
      "--- Run 4 ---\n",
      "/home/yl2672496l/Yue/code/jupyter_env/lib/python3.12/site-packages/keras/src/layers/rnn/rnn.py:204: UserWarning: Do not pass an `input_shape`/`input_dim` argument to a layer. When using Sequential models, prefer using an `Input(shape)` object as the first layer in the model instead.\n",
      "  super().__init__(**kwargs)\n"
     ]
    },
    {
     "name": "stdout",
     "output_type": "stream",
     "text": [
      "Epoch 69: early stopping\n",
      "Restoring model weights from the end of the best epoch: 49.\n"
     ]
    },
    {
     "name": "stderr",
     "output_type": "stream",
     "text": [
      "2025-01-09 07:26:23,604 - Validation loss: 0.00543\n",
      "2025-01-09 07:26:29,608 - \n",
      "--- Run 5 ---\n",
      "/home/yl2672496l/Yue/code/jupyter_env/lib/python3.12/site-packages/keras/src/layers/rnn/rnn.py:204: UserWarning: Do not pass an `input_shape`/`input_dim` argument to a layer. When using Sequential models, prefer using an `Input(shape)` object as the first layer in the model instead.\n",
      "  super().__init__(**kwargs)\n"
     ]
    },
    {
     "name": "stdout",
     "output_type": "stream",
     "text": [
      "Epoch 61: early stopping\n",
      "Restoring model weights from the end of the best epoch: 41.\n"
     ]
    },
    {
     "name": "stderr",
     "output_type": "stream",
     "text": [
      "2025-01-09 07:29:52,714 - Validation loss: 0.00553\n",
      "2025-01-09 07:29:59,162 - \n",
      "--- Run 6 ---\n",
      "/home/yl2672496l/Yue/code/jupyter_env/lib/python3.12/site-packages/keras/src/layers/rnn/rnn.py:204: UserWarning: Do not pass an `input_shape`/`input_dim` argument to a layer. When using Sequential models, prefer using an `Input(shape)` object as the first layer in the model instead.\n",
      "  super().__init__(**kwargs)\n"
     ]
    },
    {
     "name": "stdout",
     "output_type": "stream",
     "text": [
      "Epoch 54: early stopping\n",
      "Restoring model weights from the end of the best epoch: 34.\n"
     ]
    },
    {
     "name": "stderr",
     "output_type": "stream",
     "text": [
      "2025-01-09 07:33:01,091 - Validation loss: 0.00566\n",
      "2025-01-09 07:33:07,536 - \n",
      "--- Run 7 ---\n",
      "/home/yl2672496l/Yue/code/jupyter_env/lib/python3.12/site-packages/keras/src/layers/rnn/rnn.py:204: UserWarning: Do not pass an `input_shape`/`input_dim` argument to a layer. When using Sequential models, prefer using an `Input(shape)` object as the first layer in the model instead.\n",
      "  super().__init__(**kwargs)\n"
     ]
    },
    {
     "name": "stdout",
     "output_type": "stream",
     "text": [
      "Epoch 58: early stopping\n",
      "Restoring model weights from the end of the best epoch: 38.\n"
     ]
    },
    {
     "name": "stderr",
     "output_type": "stream",
     "text": [
      "2025-01-09 07:36:24,595 - Validation loss: 0.00562\n",
      "2025-01-09 07:36:30,805 - \n",
      "--- Run 8 ---\n",
      "/home/yl2672496l/Yue/code/jupyter_env/lib/python3.12/site-packages/keras/src/layers/rnn/rnn.py:204: UserWarning: Do not pass an `input_shape`/`input_dim` argument to a layer. When using Sequential models, prefer using an `Input(shape)` object as the first layer in the model instead.\n",
      "  super().__init__(**kwargs)\n"
     ]
    },
    {
     "name": "stdout",
     "output_type": "stream",
     "text": [
      "Epoch 52: early stopping\n",
      "Restoring model weights from the end of the best epoch: 32.\n"
     ]
    },
    {
     "name": "stderr",
     "output_type": "stream",
     "text": [
      "2025-01-09 07:39:27,618 - Validation loss: 0.00545\n",
      "2025-01-09 07:39:33,985 - \n",
      "--- Run 9 ---\n",
      "/home/yl2672496l/Yue/code/jupyter_env/lib/python3.12/site-packages/keras/src/layers/rnn/rnn.py:204: UserWarning: Do not pass an `input_shape`/`input_dim` argument to a layer. When using Sequential models, prefer using an `Input(shape)` object as the first layer in the model instead.\n",
      "  super().__init__(**kwargs)\n"
     ]
    },
    {
     "name": "stdout",
     "output_type": "stream",
     "text": [
      "Epoch 50: early stopping\n",
      "Restoring model weights from the end of the best epoch: 30.\n"
     ]
    },
    {
     "name": "stderr",
     "output_type": "stream",
     "text": [
      "2025-01-09 07:42:21,320 - Validation loss: 0.00554\n",
      "2025-01-09 07:42:27,040 - \n",
      "--- Run 10 ---\n",
      "/home/yl2672496l/Yue/code/jupyter_env/lib/python3.12/site-packages/keras/src/layers/rnn/rnn.py:204: UserWarning: Do not pass an `input_shape`/`input_dim` argument to a layer. When using Sequential models, prefer using an `Input(shape)` object as the first layer in the model instead.\n",
      "  super().__init__(**kwargs)\n"
     ]
    },
    {
     "name": "stdout",
     "output_type": "stream",
     "text": [
      "Epoch 37: early stopping\n",
      "Restoring model weights from the end of the best epoch: 17.\n"
     ]
    },
    {
     "name": "stderr",
     "output_type": "stream",
     "text": [
      "2025-01-09 07:44:30,393 - Validation loss: 0.00572\n",
      "2025-01-09 07:44:36,547 - \n",
      "--- Aggregated Mean of All Metrics Across 10(Successful) Runs ---\n",
      "2025-01-09 07:44:36,550 - \n",
      " MAE_train  RMSE_train  MAPE (%)_train   MAE_val  RMSE_val  MAPE (%)_val  MAE_test  RMSE_test  MAPE (%)_test\n",
      " 22.741290   32.062950    8.379221e+10 20.647859 31.950224     36.571431 22.961092  33.119989      26.276085\n",
      " 25.189450   35.400165    1.335175e+11 23.202950 36.313930     43.072672 26.365270  38.486934      30.826205\n",
      " 26.391765   36.994922    1.670794e+11 24.297783 38.348797     45.876725 28.260791  41.199947      33.794819\n",
      " 26.882717   37.754508    1.852435e+11 24.803514 39.385878     48.100192 29.206036  42.833218      36.133349\n",
      " 27.536335   38.739569    2.031431e+11 25.245049 40.248047     50.061509 30.055210  44.361006      38.259194\n",
      " 28.153583   39.667801    2.189994e+11 25.763952 41.079535     52.163343 30.805425  45.693264      39.911937\n"
     ]
    },
    {
     "data": {
      "text/html": [
       "<div>\n",
       "<style scoped>\n",
       "    .dataframe tbody tr th:only-of-type {\n",
       "        vertical-align: middle;\n",
       "    }\n",
       "\n",
       "    .dataframe tbody tr th {\n",
       "        vertical-align: top;\n",
       "    }\n",
       "\n",
       "    .dataframe thead th {\n",
       "        text-align: right;\n",
       "    }\n",
       "</style>\n",
       "<table border=\"1\" class=\"dataframe\">\n",
       "  <thead>\n",
       "    <tr style=\"text-align: right;\">\n",
       "      <th></th>\n",
       "      <th>MAE_train</th>\n",
       "      <th>RMSE_train</th>\n",
       "      <th>MAPE (%)_train</th>\n",
       "      <th>MAE_val</th>\n",
       "      <th>RMSE_val</th>\n",
       "      <th>MAPE (%)_val</th>\n",
       "      <th>MAE_test</th>\n",
       "      <th>RMSE_test</th>\n",
       "      <th>MAPE (%)_test</th>\n",
       "    </tr>\n",
       "    <tr>\n",
       "      <th>72</th>\n",
       "      <th></th>\n",
       "      <th></th>\n",
       "      <th></th>\n",
       "      <th></th>\n",
       "      <th></th>\n",
       "      <th></th>\n",
       "      <th></th>\n",
       "      <th></th>\n",
       "      <th></th>\n",
       "    </tr>\n",
       "  </thead>\n",
       "  <tbody>\n",
       "    <tr>\n",
       "      <th>1</th>\n",
       "      <td>22.741290</td>\n",
       "      <td>32.062950</td>\n",
       "      <td>8.379221e+10</td>\n",
       "      <td>20.647859</td>\n",
       "      <td>31.950224</td>\n",
       "      <td>36.571431</td>\n",
       "      <td>22.961092</td>\n",
       "      <td>33.119989</td>\n",
       "      <td>26.276085</td>\n",
       "    </tr>\n",
       "    <tr>\n",
       "      <th>2</th>\n",
       "      <td>25.189450</td>\n",
       "      <td>35.400165</td>\n",
       "      <td>1.335175e+11</td>\n",
       "      <td>23.202950</td>\n",
       "      <td>36.313930</td>\n",
       "      <td>43.072672</td>\n",
       "      <td>26.365270</td>\n",
       "      <td>38.486934</td>\n",
       "      <td>30.826205</td>\n",
       "    </tr>\n",
       "    <tr>\n",
       "      <th>3</th>\n",
       "      <td>26.391765</td>\n",
       "      <td>36.994922</td>\n",
       "      <td>1.670794e+11</td>\n",
       "      <td>24.297783</td>\n",
       "      <td>38.348797</td>\n",
       "      <td>45.876725</td>\n",
       "      <td>28.260791</td>\n",
       "      <td>41.199947</td>\n",
       "      <td>33.794819</td>\n",
       "    </tr>\n",
       "    <tr>\n",
       "      <th>4</th>\n",
       "      <td>26.882717</td>\n",
       "      <td>37.754508</td>\n",
       "      <td>1.852435e+11</td>\n",
       "      <td>24.803514</td>\n",
       "      <td>39.385878</td>\n",
       "      <td>48.100192</td>\n",
       "      <td>29.206036</td>\n",
       "      <td>42.833218</td>\n",
       "      <td>36.133349</td>\n",
       "    </tr>\n",
       "    <tr>\n",
       "      <th>5</th>\n",
       "      <td>27.536335</td>\n",
       "      <td>38.739569</td>\n",
       "      <td>2.031431e+11</td>\n",
       "      <td>25.245049</td>\n",
       "      <td>40.248047</td>\n",
       "      <td>50.061509</td>\n",
       "      <td>30.055210</td>\n",
       "      <td>44.361006</td>\n",
       "      <td>38.259194</td>\n",
       "    </tr>\n",
       "    <tr>\n",
       "      <th>6</th>\n",
       "      <td>28.153583</td>\n",
       "      <td>39.667801</td>\n",
       "      <td>2.189994e+11</td>\n",
       "      <td>25.763952</td>\n",
       "      <td>41.079535</td>\n",
       "      <td>52.163343</td>\n",
       "      <td>30.805425</td>\n",
       "      <td>45.693264</td>\n",
       "      <td>39.911937</td>\n",
       "    </tr>\n",
       "  </tbody>\n",
       "</table>\n",
       "</div>"
      ],
      "text/plain": [
       "    MAE_train  RMSE_train  MAPE (%)_train    MAE_val   RMSE_val  MAPE (%)_val  \\\n",
       "72                                                                              \n",
       "1   22.741290   32.062950    8.379221e+10  20.647859  31.950224     36.571431   \n",
       "2   25.189450   35.400165    1.335175e+11  23.202950  36.313930     43.072672   \n",
       "3   26.391765   36.994922    1.670794e+11  24.297783  38.348797     45.876725   \n",
       "4   26.882717   37.754508    1.852435e+11  24.803514  39.385878     48.100192   \n",
       "5   27.536335   38.739569    2.031431e+11  25.245049  40.248047     50.061509   \n",
       "6   28.153583   39.667801    2.189994e+11  25.763952  41.079535     52.163343   \n",
       "\n",
       "     MAE_test  RMSE_test  MAPE (%)_test  \n",
       "72                                       \n",
       "1   22.961092  33.119989      26.276085  \n",
       "2   26.365270  38.486934      30.826205  \n",
       "3   28.260791  41.199947      33.794819  \n",
       "4   29.206036  42.833218      36.133349  \n",
       "5   30.055210  44.361006      38.259194  \n",
       "6   30.805425  45.693264      39.911937  "
      ]
     },
     "metadata": {},
     "output_type": "display_data"
    },
    {
     "name": "stderr",
     "output_type": "stream",
     "text": [
      "2025-01-09 07:44:36,558 - 96\n",
      "2025-01-09 07:44:36,559 - \n",
      "--- Run 1 ---\n",
      "/home/yl2672496l/Yue/code/jupyter_env/lib/python3.12/site-packages/keras/src/layers/rnn/rnn.py:204: UserWarning: Do not pass an `input_shape`/`input_dim` argument to a layer. When using Sequential models, prefer using an `Input(shape)` object as the first layer in the model instead.\n",
      "  super().__init__(**kwargs)\n"
     ]
    },
    {
     "name": "stdout",
     "output_type": "stream",
     "text": [
      "Epoch 51: early stopping\n",
      "Restoring model weights from the end of the best epoch: 31.\n"
     ]
    },
    {
     "name": "stderr",
     "output_type": "stream",
     "text": [
      "2025-01-09 07:56:09,812 - Validation loss: 0.00549\n",
      "2025-01-09 07:56:17,058 - \n",
      "--- Run 2 ---\n",
      "/home/yl2672496l/Yue/code/jupyter_env/lib/python3.12/site-packages/keras/src/layers/rnn/rnn.py:204: UserWarning: Do not pass an `input_shape`/`input_dim` argument to a layer. When using Sequential models, prefer using an `Input(shape)` object as the first layer in the model instead.\n",
      "  super().__init__(**kwargs)\n"
     ]
    },
    {
     "name": "stdout",
     "output_type": "stream",
     "text": [
      "Epoch 44: early stopping\n",
      "Restoring model weights from the end of the best epoch: 24.\n"
     ]
    },
    {
     "name": "stderr",
     "output_type": "stream",
     "text": [
      "2025-01-09 08:06:14,939 - Validation loss: 0.00539\n",
      "2025-01-09 08:06:22,236 - \n",
      "--- Run 3 ---\n",
      "/home/yl2672496l/Yue/code/jupyter_env/lib/python3.12/site-packages/keras/src/layers/rnn/rnn.py:204: UserWarning: Do not pass an `input_shape`/`input_dim` argument to a layer. When using Sequential models, prefer using an `Input(shape)` object as the first layer in the model instead.\n",
      "  super().__init__(**kwargs)\n"
     ]
    },
    {
     "name": "stdout",
     "output_type": "stream",
     "text": [
      "Epoch 67: early stopping\n",
      "Restoring model weights from the end of the best epoch: 47.\n"
     ]
    },
    {
     "name": "stderr",
     "output_type": "stream",
     "text": [
      "2025-01-09 08:21:38,498 - Validation loss: 0.00548\n",
      "2025-01-09 08:21:45,935 - \n",
      "--- Run 4 ---\n",
      "/home/yl2672496l/Yue/code/jupyter_env/lib/python3.12/site-packages/keras/src/layers/rnn/rnn.py:204: UserWarning: Do not pass an `input_shape`/`input_dim` argument to a layer. When using Sequential models, prefer using an `Input(shape)` object as the first layer in the model instead.\n",
      "  super().__init__(**kwargs)\n"
     ]
    },
    {
     "name": "stdout",
     "output_type": "stream",
     "text": [
      "Epoch 53: early stopping\n",
      "Restoring model weights from the end of the best epoch: 33.\n"
     ]
    },
    {
     "name": "stderr",
     "output_type": "stream",
     "text": [
      "2025-01-09 08:33:32,318 - Validation loss: 0.00555\n",
      "2025-01-09 08:33:38,758 - \n",
      "--- Run 5 ---\n",
      "/home/yl2672496l/Yue/code/jupyter_env/lib/python3.12/site-packages/keras/src/layers/rnn/rnn.py:204: UserWarning: Do not pass an `input_shape`/`input_dim` argument to a layer. When using Sequential models, prefer using an `Input(shape)` object as the first layer in the model instead.\n",
      "  super().__init__(**kwargs)\n"
     ]
    },
    {
     "name": "stdout",
     "output_type": "stream",
     "text": [
      "Epoch 47: early stopping\n",
      "Restoring model weights from the end of the best epoch: 27.\n"
     ]
    },
    {
     "name": "stderr",
     "output_type": "stream",
     "text": [
      "2025-01-09 08:44:18,349 - Validation loss: 0.00557\n",
      "2025-01-09 08:44:25,411 - \n",
      "--- Run 6 ---\n",
      "/home/yl2672496l/Yue/code/jupyter_env/lib/python3.12/site-packages/keras/src/layers/rnn/rnn.py:204: UserWarning: Do not pass an `input_shape`/`input_dim` argument to a layer. When using Sequential models, prefer using an `Input(shape)` object as the first layer in the model instead.\n",
      "  super().__init__(**kwargs)\n"
     ]
    },
    {
     "name": "stdout",
     "output_type": "stream",
     "text": [
      "Epoch 46: early stopping\n",
      "Restoring model weights from the end of the best epoch: 26.\n"
     ]
    },
    {
     "name": "stderr",
     "output_type": "stream",
     "text": [
      "2025-01-09 08:54:48,591 - Validation loss: 0.00549\n",
      "2025-01-09 08:54:56,085 - \n",
      "--- Run 7 ---\n",
      "/home/yl2672496l/Yue/code/jupyter_env/lib/python3.12/site-packages/keras/src/layers/rnn/rnn.py:204: UserWarning: Do not pass an `input_shape`/`input_dim` argument to a layer. When using Sequential models, prefer using an `Input(shape)` object as the first layer in the model instead.\n",
      "  super().__init__(**kwargs)\n"
     ]
    },
    {
     "name": "stdout",
     "output_type": "stream",
     "text": [
      "Epoch 48: early stopping\n",
      "Restoring model weights from the end of the best epoch: 28.\n"
     ]
    },
    {
     "name": "stderr",
     "output_type": "stream",
     "text": [
      "2025-01-09 09:06:00,642 - Validation loss: 0.00570\n",
      "2025-01-09 09:06:08,255 - \n",
      "--- Run 8 ---\n",
      "/home/yl2672496l/Yue/code/jupyter_env/lib/python3.12/site-packages/keras/src/layers/rnn/rnn.py:204: UserWarning: Do not pass an `input_shape`/`input_dim` argument to a layer. When using Sequential models, prefer using an `Input(shape)` object as the first layer in the model instead.\n",
      "  super().__init__(**kwargs)\n"
     ]
    },
    {
     "name": "stdout",
     "output_type": "stream",
     "text": [
      "Epoch 50: early stopping\n",
      "Restoring model weights from the end of the best epoch: 30.\n"
     ]
    },
    {
     "name": "stderr",
     "output_type": "stream",
     "text": [
      "2025-01-09 09:18:15,729 - Validation loss: 0.00548\n",
      "2025-01-09 09:18:23,157 - \n",
      "--- Run 9 ---\n",
      "/home/yl2672496l/Yue/code/jupyter_env/lib/python3.12/site-packages/keras/src/layers/rnn/rnn.py:204: UserWarning: Do not pass an `input_shape`/`input_dim` argument to a layer. When using Sequential models, prefer using an `Input(shape)` object as the first layer in the model instead.\n",
      "  super().__init__(**kwargs)\n"
     ]
    },
    {
     "name": "stdout",
     "output_type": "stream",
     "text": [
      "Epoch 47: early stopping\n",
      "Restoring model weights from the end of the best epoch: 27.\n"
     ]
    },
    {
     "name": "stderr",
     "output_type": "stream",
     "text": [
      "2025-01-09 09:28:59,867 - Validation loss: 0.00548\n",
      "2025-01-09 09:29:07,581 - \n",
      "--- Run 10 ---\n",
      "/home/yl2672496l/Yue/code/jupyter_env/lib/python3.12/site-packages/keras/src/layers/rnn/rnn.py:204: UserWarning: Do not pass an `input_shape`/`input_dim` argument to a layer. When using Sequential models, prefer using an `Input(shape)` object as the first layer in the model instead.\n",
      "  super().__init__(**kwargs)\n"
     ]
    }
   ],
   "source": [
    "mean_metrics_list=[]\n",
    "#for length in best_hyperparameters_improved_model.keys():\n",
    "for length in best_hyperparameters_improved_model_lstm.keys():\n",
    "    logging.info(length)\n",
    "    \n",
    "    # Number of runs\n",
    "    n_runs = 10\n",
    "    \n",
    "    # get the best hyperparameter of each length\n",
    "    #hyperparams = best_hyperparameters_improved_model[length]\n",
    "    hyperparams = best_hyperparameters_improved_model_lstm[length]\n",
    "    \n",
    "    # Initialize lists to store mean metrics and all metrics from each run\n",
    "    mean_metrics_rows = []\n",
    "    df_all_metrics_list = []\n",
    "    successful_runs = []  # To track runs with valid mse\n",
    "\n",
    "    for run in range(1, n_runs + 1):\n",
    "        logging.info(f\"\\n--- Run {run} ---\")\n",
    "\n",
    "        # Optionally set a unique seed for each run to ensure variability\n",
    "        seed = run\n",
    "        # Train the model\n",
    "        model, mse = train_model(hyperparams, data_dict, length, seed=seed)\n",
    "        \n",
    "        if not np.isnan(mse):  # Only proceed if mse is valid\n",
    "            successful_runs.append(run)\n",
    "        \n",
    "            X_train = data_dict[length]['X_train']\n",
    "            y_train = data_dict[length]['y_train']\n",
    "            X_val = data_dict[length]['X_val']\n",
    "            y_val = data_dict[length]['y_val']\n",
    "            X_test = data_dict[length]['X_test']\n",
    "            y_test = data_dict[length]['y_test']\n",
    "\n",
    "            #get the true flow and predicted flow\n",
    "            y_pred_train, y_obs_train = make_prediction(model, X_train, y_train)\n",
    "            y_pred_val, y_obs_val = make_prediction(model, X_val, y_val)\n",
    "            y_pred_test, y_obs_test = make_prediction(model, X_test, y_test)\n",
    "\n",
    "            #calculate the evaluation metrics of each output step\n",
    "            df_train = evaluation(y_pred_train, y_obs_train).add_suffix('_train')\n",
    "            df_val = evaluation(y_pred_val, y_obs_val).add_suffix('_val')\n",
    "            df_test = evaluation(y_pred_test, y_obs_test).add_suffix('_test')\n",
    "\n",
    "            df_all_metrics = pd.concat([df_train, df_val, df_test], axis=1)\n",
    "            df_all_metrics.index.name = length\n",
    "\n",
    "            # Append df_all_metrics to the list\n",
    "            df_all_metrics_list.append(df_all_metrics)\n",
    "\n",
    "            # Calculate mean for all output step\n",
    "            #mean_metrics = df_val.mean()\n",
    "            mean_metrics = pd.concat([df_train.mean(), df_val.mean(), df_test.mean()])\n",
    "            mean_metrics_row = pd.DataFrame(mean_metrics).T\n",
    "            mean_metrics_row['MSE_val(loss)'] = mse\n",
    "            mean_metrics_row['input_len'] = length\n",
    "            #mean_metrics_row = mean_metrics_row[['input_len','MSE_val(loss)', 'MAE_val', 'RMSE_val', 'MAPE (%)_val']]\n",
    "            mean_metrics_row = mean_metrics_row[['input_len', 'MSE_val(loss)', 'MAE_train', 'RMSE_train', 'MAPE (%)_train',\n",
    "                                             'MAE_val', 'RMSE_val', 'MAPE (%)_val',\n",
    "                                             'MAE_test', 'RMSE_test', 'MAPE (%)_test']]\n",
    "\n",
    "            # Append to the list\n",
    "            mean_metrics_rows.append(mean_metrics_row)\n",
    "        else:\n",
    "            logging.info(f\"Run {run} has mse=NaN, skipping.\")\n",
    "            \n",
    "    # Check if there are successful runs before proceeding\n",
    "    if successful_runs:       \n",
    "        # Concatenate all df_all_metrics into a single DataFrame with a new level for runs\n",
    "        concatenated_all_metrics = pd.concat(df_all_metrics_list, keys=successful_runs, names=['Run', 'Time Step'])\n",
    "\n",
    "        # Calculate the mean across runs for each metric and time step\n",
    "        # This will group by 'Time Step' and calculate the mean of each metric across all runs\n",
    "        aggregated_all_metrics_mean = concatenated_all_metrics.groupby('Time Step').mean()\n",
    "        aggregated_all_metrics_mean.index.name = length\n",
    "\n",
    "        logging.info(\"\\n--- Aggregated Mean of All Metrics Across 10(Successful) Runs ---\")\n",
    "        # Convert DataFrame to string\n",
    "        aggregated_all_metrics_mean_str = aggregated_all_metrics_mean.to_string(index=False)    \n",
    "        # Log the DataFrame\n",
    "        logging.info(\"\\n\" + aggregated_all_metrics_mean_str)\n",
    "        display(aggregated_all_metrics_mean)\n",
    "    else:\n",
    "        logging.info(f\"No successful runs for input length {length}.\")\n",
    "\n",
    "    # Check if mean metrics were calculated\n",
    "    if mean_metrics_rows:        \n",
    "        # After all runs, create a DataFrame of mean metrics\n",
    "        mean_metrics_df = pd.concat(mean_metrics_rows, ignore_index=True)\n",
    "        # Calculate the mean of each metric across the 10 runs\n",
    "        final_mean_metrics = mean_metrics_df.mean()\n",
    "\n",
    "        # Create a DataFrame for the final mean metrics\n",
    "        final_mean_metrics_df = pd.DataFrame(final_mean_metrics).T\n",
    "\n",
    "        mean_metrics_list.append(final_mean_metrics_df)\n",
    "    else:\n",
    "        logging.info(f\"No mean metrics calculated for input length {length}.\")\n",
    "\n",
    "mean_metrics_df = pd.concat(mean_metrics_list).reset_index(drop=True)\n",
    "logging.info(\"\\n--- Final Mean Metrics Across 10 Runs ---\")\n",
    "# Convert DataFrame to string\n",
    "mean_metrics_df_str = mean_metrics_df.to_string(index=False)    \n",
    "# Log the DataFrame\n",
    "logging.info(\"\\n\" + mean_metrics_df_str)\n",
    "mean_metrics_df"
   ]
  },
  {
   "cell_type": "markdown",
   "id": "c13bd364-0980-41d6-97c9-62fb692617b2",
   "metadata": {},
   "source": [
    "Completed grid search for input length: 24 Best Validation MSE: 0.00553 Best Hyperparameters: {'units': 64, 'dropout': 0.2, 'learning_rate': 0.001, 'batch_size': 32}\n",
    "\n",
    "Completed grid search for input length: 48 Best Validation MSE: 0.00546 Best Hyperparameters: {'units': 256, 'dropout': 0.2, 'learning_rate': 0.01, 'batch_size': 32}\n",
    "\n",
    "Completed grid search for input length: 72 Best Validation MSE: 0.00531 Best Hyperparameters: {'units': 256, 'dropout': 0.1, 'learning_rate': 0.001, 'batch_size': 128}\n",
    "\n",
    "Completed grid search for input length: 96 Best Validation MSE: 0.00535 Best Hyperparameters: {'units': 256, 'dropout': 0.4, 'learning_rate': 0.001, 'batch_size': 32}\n",
    "\n",
    "Completed grid search for input length: 120 Best Validation MSE: 0.00528 Best Hyperparameters: {'units': 128, 'dropout': 0.1, 'learning_rate': 0.001, 'batch_size': 64}\n",
    "\n",
    "Completed grid search for input length: 144 Best Validation MSE: 0.00528 Best Hyperparameters: {'units': 256, 'dropout': 0.2, 'learning_rate': 0.001, 'batch_size': 64}\n",
    "\n",
    "Completed grid search for input length: 168 Best Validation MSE: 0.00526 Best Hyperparameters: {'units': 256, 'dropout': 0.3, 'learning_rate': 0.001, 'batch_size': 64}\n",
    "\n",
    "Completed grid search for input length: 192 Best Validation MSE: 0.00524 Best Hyperparameters: {'units': 256, 'dropout': 0.4, 'learning_rate': 0.001, 'batch_size': 32}\n",
    "\n",
    "Completed grid search for input length: 216 Best Validation MSE: 0.00537 Best Hyperparameters: {'units': 256, 'dropout': 0.4, 'learning_rate': 0.001, 'batch_size': 32}\n",
    "\n",
    "Completed grid search for input length: 240 Best Validation MSE: 0.00541 Best Hyperparameters: {'units': 64, 'dropout': 0.4, 'learning_rate': 0.005, 'batch_size': 64}\n",
    "\n",
    "Completed grid search for input length: 264 Best Validation MSE: 0.00546 Best Hyperparameters: {'units': 256, 'dropout': 0.4, 'learning_rate': 0.001, 'batch_size': 32}\n",
    "\n",
    "Completed grid search for input length: 288 Best Validation MSE: 0.00547 Best Hyperparameters: {'units': 64, 'dropout': 0.3, 'learning_rate': 0.001, 'batch_size': 64}\n",
    "\n",
    "Completed grid search for input length: 312 Best Validation MSE: 0.00555 Best Hyperparameters: {'units': 32, 'dropout': 0.2, 'learning_rate': 0.001, 'batch_size': 32}\n",
    "\n",
    "Completed grid search for input length: 336 Best Validation MSE: 0.00556 Best Hyperparameters: {'units': 256, 'dropout': 0.1, 'learning_rate': 0.01, 'batch_size': 64}\n",
    "\n",
    "Completed grid search for input length: 360 Best Validation MSE: 0.00570 Best Hyperparameters: {'units': 32, 'dropout': 0.1, 'learning_rate': 0.001, 'batch_size': 32}\n",
    "\n",
    "Completed grid search for input length: 384 Best Validation MSE: 0.00574 Best Hyperparameters: {'units': 256, 'dropout': 0.3, 'learning_rate': 0.001, 'batch_size': 64}\n",
    "\n",
    "Completed grid search for input length: 408 Best Validation MSE: 0.00565 Best Hyperparameters: {'units': 256, 'dropout': 0.4, 'learning_rate': 0.001, 'batch_size': 64}\n",
    "\n",
    "Completed grid search for input length: 432 Best Validation MSE: 0.00568 Best Hyperparameters: {'units': 128, 'dropout': 0.4, 'learning_rate': 0.001, 'batch_size': 64}\n",
    "\n",
    "Completed grid search for input length: 456 Best Validation MSE: 0.00572 Best Hyperparameters: {'units': 128, 'dropout': 0.0, 'learning_rate': 0.001, 'batch_size': 32}\n",
    "\n",
    "Completed grid search for input length: 480 Best Validation MSE: 0.00585 Best Hyperparameters: {'units': 256, 'dropout': 0.1, 'learning_rate': 0.001, 'batch_size': 64}\n",
    "\n",
    "Completed grid search for input length: 504 Best Validation MSE: 0.00596 Best Hyperparameters: {'units': 128, 'dropout': 0.0, 'learning_rate': 0.001, 'batch_size': 32}"
   ]
  },
  {
   "cell_type": "markdown",
   "id": "9c53fff6-8df8-4dbc-a5ec-03bb437792db",
   "metadata": {},
   "source": [
    "### Recalculate the evaluation metrics of length 336 and 48"
   ]
  },
  {
   "cell_type": "code",
   "execution_count": 22,
   "id": "05b77a64-ef09-4f82-ac1e-c07aa8423bb7",
   "metadata": {},
   "outputs": [
    {
     "name": "stderr",
     "output_type": "stream",
     "text": [
      "2025-01-13 03:13:04,999 - 336\n",
      "2025-01-13 03:13:05,002 - \n",
      "--- Run 1 ---\n",
      "/home/yl2672496l/Yue/code/jupyter_env/lib/python3.12/site-packages/keras/src/layers/rnn/rnn.py:204: UserWarning: Do not pass an `input_shape`/`input_dim` argument to a layer. When using Sequential models, prefer using an `Input(shape)` object as the first layer in the model instead.\n",
      "  super().__init__(**kwargs)\n"
     ]
    },
    {
     "name": "stdout",
     "output_type": "stream",
     "text": [
      "Epoch 24: early stopping\n",
      "Restoring model weights from the end of the best epoch: 4.\n"
     ]
    },
    {
     "name": "stderr",
     "output_type": "stream",
     "text": [
      "2025-01-13 03:17:00,921 - Validation loss: 0.02516\n",
      "2025-01-13 03:17:00,924 - Run 1 has mse=0.025159712880849838, skipping.\n",
      "2025-01-13 03:17:00,925 - \n",
      "--- Run 2 ---\n"
     ]
    },
    {
     "name": "stdout",
     "output_type": "stream",
     "text": [
      "Epoch 47: early stopping\n",
      "Restoring model weights from the end of the best epoch: 27.\n"
     ]
    },
    {
     "name": "stderr",
     "output_type": "stream",
     "text": [
      "2025-01-13 03:24:43,796 - Validation loss: 0.00592\n",
      "2025-01-13 03:24:54,346 - \n",
      "--- Run 3 ---\n",
      "/home/yl2672496l/Yue/code/jupyter_env/lib/python3.12/site-packages/keras/src/layers/rnn/rnn.py:204: UserWarning: Do not pass an `input_shape`/`input_dim` argument to a layer. When using Sequential models, prefer using an `Input(shape)` object as the first layer in the model instead.\n",
      "  super().__init__(**kwargs)\n"
     ]
    },
    {
     "name": "stdout",
     "output_type": "stream",
     "text": [
      "Epoch 27: early stopping\n",
      "Restoring model weights from the end of the best epoch: 7.\n"
     ]
    },
    {
     "name": "stderr",
     "output_type": "stream",
     "text": [
      "2025-01-13 03:29:27,957 - Validation loss: 0.00692\n",
      "2025-01-13 03:29:38,309 - \n",
      "--- Run 4 ---\n",
      "/home/yl2672496l/Yue/code/jupyter_env/lib/python3.12/site-packages/keras/src/layers/rnn/rnn.py:204: UserWarning: Do not pass an `input_shape`/`input_dim` argument to a layer. When using Sequential models, prefer using an `Input(shape)` object as the first layer in the model instead.\n",
      "  super().__init__(**kwargs)\n"
     ]
    },
    {
     "name": "stdout",
     "output_type": "stream",
     "text": [
      "Epoch 20: early stopping\n",
      "Restoring model weights from the end of the best epoch: 1.\n"
     ]
    },
    {
     "name": "stderr",
     "output_type": "stream",
     "text": [
      "2025-01-13 03:32:59,647 - Validation loss: nan\n",
      "2025-01-13 03:32:59,649 - Run 4 has mse=NaN, skipping.\n",
      "2025-01-13 03:32:59,650 - \n",
      "--- Run 5 ---\n"
     ]
    },
    {
     "name": "stdout",
     "output_type": "stream",
     "text": [
      "Epoch 62: early stopping\n",
      "Restoring model weights from the end of the best epoch: 42.\n"
     ]
    },
    {
     "name": "stderr",
     "output_type": "stream",
     "text": [
      "2025-01-13 03:43:08,017 - Validation loss: 0.00595\n",
      "2025-01-13 03:43:19,156 - \n",
      "--- Run 6 ---\n",
      "/home/yl2672496l/Yue/code/jupyter_env/lib/python3.12/site-packages/keras/src/layers/rnn/rnn.py:204: UserWarning: Do not pass an `input_shape`/`input_dim` argument to a layer. When using Sequential models, prefer using an `Input(shape)` object as the first layer in the model instead.\n",
      "  super().__init__(**kwargs)\n"
     ]
    },
    {
     "name": "stdout",
     "output_type": "stream",
     "text": [
      "Epoch 48: early stopping\n",
      "Restoring model weights from the end of the best epoch: 28.\n"
     ]
    },
    {
     "name": "stderr",
     "output_type": "stream",
     "text": [
      "2025-01-13 03:51:20,117 - Validation loss: 0.00606\n",
      "2025-01-13 03:51:31,160 - \n",
      "--- Run 7 ---\n",
      "/home/yl2672496l/Yue/code/jupyter_env/lib/python3.12/site-packages/keras/src/layers/rnn/rnn.py:204: UserWarning: Do not pass an `input_shape`/`input_dim` argument to a layer. When using Sequential models, prefer using an `Input(shape)` object as the first layer in the model instead.\n",
      "  super().__init__(**kwargs)\n"
     ]
    },
    {
     "name": "stdout",
     "output_type": "stream",
     "text": [
      "Epoch 57: early stopping\n",
      "Restoring model weights from the end of the best epoch: 37.\n"
     ]
    },
    {
     "name": "stderr",
     "output_type": "stream",
     "text": [
      "2025-01-13 04:01:16,919 - Validation loss: 0.00597\n",
      "2025-01-13 04:01:28,173 - \n",
      "--- Run 8 ---\n",
      "/home/yl2672496l/Yue/code/jupyter_env/lib/python3.12/site-packages/keras/src/layers/rnn/rnn.py:204: UserWarning: Do not pass an `input_shape`/`input_dim` argument to a layer. When using Sequential models, prefer using an `Input(shape)` object as the first layer in the model instead.\n",
      "  super().__init__(**kwargs)\n"
     ]
    },
    {
     "name": "stdout",
     "output_type": "stream",
     "text": [
      "Epoch 76: early stopping\n",
      "Restoring model weights from the end of the best epoch: 56.\n"
     ]
    },
    {
     "name": "stderr",
     "output_type": "stream",
     "text": [
      "2025-01-13 04:14:08,167 - Validation loss: 0.00570\n",
      "2025-01-13 04:14:19,388 - \n",
      "--- Run 9 ---\n",
      "/home/yl2672496l/Yue/code/jupyter_env/lib/python3.12/site-packages/keras/src/layers/rnn/rnn.py:204: UserWarning: Do not pass an `input_shape`/`input_dim` argument to a layer. When using Sequential models, prefer using an `Input(shape)` object as the first layer in the model instead.\n",
      "  super().__init__(**kwargs)\n"
     ]
    },
    {
     "name": "stdout",
     "output_type": "stream",
     "text": [
      "Epoch 59: early stopping\n",
      "Restoring model weights from the end of the best epoch: 39.\n"
     ]
    },
    {
     "name": "stderr",
     "output_type": "stream",
     "text": [
      "2025-01-13 04:24:20,845 - Validation loss: 0.00588\n",
      "2025-01-13 04:24:31,735 - \n",
      "--- Run 10 ---\n",
      "/home/yl2672496l/Yue/code/jupyter_env/lib/python3.12/site-packages/keras/src/layers/rnn/rnn.py:204: UserWarning: Do not pass an `input_shape`/`input_dim` argument to a layer. When using Sequential models, prefer using an `Input(shape)` object as the first layer in the model instead.\n",
      "  super().__init__(**kwargs)\n"
     ]
    },
    {
     "name": "stdout",
     "output_type": "stream",
     "text": [
      "Epoch 43: early stopping\n",
      "Restoring model weights from the end of the best epoch: 23.\n"
     ]
    },
    {
     "name": "stderr",
     "output_type": "stream",
     "text": [
      "2025-01-13 04:31:47,109 - Validation loss: 0.02186\n",
      "2025-01-13 04:31:47,111 - Run 10 has mse=0.02186303399503231, skipping.\n",
      "2025-01-13 04:31:47,117 - \n",
      "--- Aggregated Mean of All Metrics Across 10(Successful) Runs ---\n",
      "2025-01-13 04:31:47,122 - \n",
      " MAE_train  RMSE_train  MAPE (%)_train   MAE_val  RMSE_val  MAPE (%)_val  MAE_test  RMSE_test  MAPE (%)_test\n",
      " 23.414601   32.056683    1.101442e+11 21.955408 33.939292     42.513167 25.170847  36.277035      32.652209\n",
      " 24.625599   34.198602    1.457155e+11 23.465655 37.767377     40.869351 27.769847  41.112069      34.148795\n",
      " 25.430239   35.535308    1.716921e+11 24.243129 39.679370     42.261954 29.199529  43.690869      36.273759\n",
      " 26.085867   36.548539    2.065791e+11 24.929341 41.015453     42.571067 30.414164  45.776318      38.001377\n",
      " 26.803073   37.401393    2.346961e+11 25.638992 42.102602     46.178403 31.468251  47.434822      41.157452\n",
      " 27.585411   38.158024    2.520001e+11 26.415916 42.841416     53.844137 32.017235  48.554717      44.857846\n"
     ]
    },
    {
     "data": {
      "text/html": [
       "<div>\n",
       "<style scoped>\n",
       "    .dataframe tbody tr th:only-of-type {\n",
       "        vertical-align: middle;\n",
       "    }\n",
       "\n",
       "    .dataframe tbody tr th {\n",
       "        vertical-align: top;\n",
       "    }\n",
       "\n",
       "    .dataframe thead th {\n",
       "        text-align: right;\n",
       "    }\n",
       "</style>\n",
       "<table border=\"1\" class=\"dataframe\">\n",
       "  <thead>\n",
       "    <tr style=\"text-align: right;\">\n",
       "      <th></th>\n",
       "      <th>MAE_train</th>\n",
       "      <th>RMSE_train</th>\n",
       "      <th>MAPE (%)_train</th>\n",
       "      <th>MAE_val</th>\n",
       "      <th>RMSE_val</th>\n",
       "      <th>MAPE (%)_val</th>\n",
       "      <th>MAE_test</th>\n",
       "      <th>RMSE_test</th>\n",
       "      <th>MAPE (%)_test</th>\n",
       "    </tr>\n",
       "    <tr>\n",
       "      <th>336</th>\n",
       "      <th></th>\n",
       "      <th></th>\n",
       "      <th></th>\n",
       "      <th></th>\n",
       "      <th></th>\n",
       "      <th></th>\n",
       "      <th></th>\n",
       "      <th></th>\n",
       "      <th></th>\n",
       "    </tr>\n",
       "  </thead>\n",
       "  <tbody>\n",
       "    <tr>\n",
       "      <th>1</th>\n",
       "      <td>23.414601</td>\n",
       "      <td>32.056683</td>\n",
       "      <td>1.101442e+11</td>\n",
       "      <td>21.955408</td>\n",
       "      <td>33.939292</td>\n",
       "      <td>42.513167</td>\n",
       "      <td>25.170847</td>\n",
       "      <td>36.277035</td>\n",
       "      <td>32.652209</td>\n",
       "    </tr>\n",
       "    <tr>\n",
       "      <th>2</th>\n",
       "      <td>24.625599</td>\n",
       "      <td>34.198602</td>\n",
       "      <td>1.457155e+11</td>\n",
       "      <td>23.465655</td>\n",
       "      <td>37.767377</td>\n",
       "      <td>40.869351</td>\n",
       "      <td>27.769847</td>\n",
       "      <td>41.112069</td>\n",
       "      <td>34.148795</td>\n",
       "    </tr>\n",
       "    <tr>\n",
       "      <th>3</th>\n",
       "      <td>25.430239</td>\n",
       "      <td>35.535308</td>\n",
       "      <td>1.716921e+11</td>\n",
       "      <td>24.243129</td>\n",
       "      <td>39.679370</td>\n",
       "      <td>42.261954</td>\n",
       "      <td>29.199529</td>\n",
       "      <td>43.690869</td>\n",
       "      <td>36.273759</td>\n",
       "    </tr>\n",
       "    <tr>\n",
       "      <th>4</th>\n",
       "      <td>26.085867</td>\n",
       "      <td>36.548539</td>\n",
       "      <td>2.065791e+11</td>\n",
       "      <td>24.929341</td>\n",
       "      <td>41.015453</td>\n",
       "      <td>42.571067</td>\n",
       "      <td>30.414164</td>\n",
       "      <td>45.776318</td>\n",
       "      <td>38.001377</td>\n",
       "    </tr>\n",
       "    <tr>\n",
       "      <th>5</th>\n",
       "      <td>26.803073</td>\n",
       "      <td>37.401393</td>\n",
       "      <td>2.346961e+11</td>\n",
       "      <td>25.638992</td>\n",
       "      <td>42.102602</td>\n",
       "      <td>46.178403</td>\n",
       "      <td>31.468251</td>\n",
       "      <td>47.434822</td>\n",
       "      <td>41.157452</td>\n",
       "    </tr>\n",
       "    <tr>\n",
       "      <th>6</th>\n",
       "      <td>27.585411</td>\n",
       "      <td>38.158024</td>\n",
       "      <td>2.520001e+11</td>\n",
       "      <td>26.415916</td>\n",
       "      <td>42.841416</td>\n",
       "      <td>53.844137</td>\n",
       "      <td>32.017235</td>\n",
       "      <td>48.554717</td>\n",
       "      <td>44.857846</td>\n",
       "    </tr>\n",
       "  </tbody>\n",
       "</table>\n",
       "</div>"
      ],
      "text/plain": [
       "     MAE_train  RMSE_train  MAPE (%)_train    MAE_val   RMSE_val  \\\n",
       "336                                                                \n",
       "1    23.414601   32.056683    1.101442e+11  21.955408  33.939292   \n",
       "2    24.625599   34.198602    1.457155e+11  23.465655  37.767377   \n",
       "3    25.430239   35.535308    1.716921e+11  24.243129  39.679370   \n",
       "4    26.085867   36.548539    2.065791e+11  24.929341  41.015453   \n",
       "5    26.803073   37.401393    2.346961e+11  25.638992  42.102602   \n",
       "6    27.585411   38.158024    2.520001e+11  26.415916  42.841416   \n",
       "\n",
       "     MAPE (%)_val   MAE_test  RMSE_test  MAPE (%)_test  \n",
       "336                                                     \n",
       "1       42.513167  25.170847  36.277035      32.652209  \n",
       "2       40.869351  27.769847  41.112069      34.148795  \n",
       "3       42.261954  29.199529  43.690869      36.273759  \n",
       "4       42.571067  30.414164  45.776318      38.001377  \n",
       "5       46.178403  31.468251  47.434822      41.157452  \n",
       "6       53.844137  32.017235  48.554717      44.857846  "
      ]
     },
     "metadata": {},
     "output_type": "display_data"
    },
    {
     "name": "stderr",
     "output_type": "stream",
     "text": [
      "2025-01-13 04:31:47,135 - 48\n",
      "2025-01-13 04:31:47,136 - \n",
      "--- Run 1 ---\n",
      "/home/yl2672496l/Yue/code/jupyter_env/lib/python3.12/site-packages/keras/src/layers/rnn/rnn.py:204: UserWarning: Do not pass an `input_shape`/`input_dim` argument to a layer. When using Sequential models, prefer using an `Input(shape)` object as the first layer in the model instead.\n",
      "  super().__init__(**kwargs)\n"
     ]
    },
    {
     "name": "stdout",
     "output_type": "stream",
     "text": [
      "Epoch 37: early stopping\n",
      "Restoring model weights from the end of the best epoch: 17.\n"
     ]
    },
    {
     "name": "stderr",
     "output_type": "stream",
     "text": [
      "2025-01-13 04:38:26,758 - Validation loss: 0.00580\n",
      "2025-01-13 04:38:32,531 - \n",
      "--- Run 2 ---\n",
      "/home/yl2672496l/Yue/code/jupyter_env/lib/python3.12/site-packages/keras/src/layers/rnn/rnn.py:204: UserWarning: Do not pass an `input_shape`/`input_dim` argument to a layer. When using Sequential models, prefer using an `Input(shape)` object as the first layer in the model instead.\n",
      "  super().__init__(**kwargs)\n"
     ]
    },
    {
     "name": "stdout",
     "output_type": "stream",
     "text": [
      "Epoch 40: early stopping\n",
      "Restoring model weights from the end of the best epoch: 20.\n"
     ]
    },
    {
     "name": "stderr",
     "output_type": "stream",
     "text": [
      "2025-01-13 04:45:55,456 - Validation loss: 0.00587\n",
      "2025-01-13 04:46:01,470 - \n",
      "--- Run 3 ---\n",
      "/home/yl2672496l/Yue/code/jupyter_env/lib/python3.12/site-packages/keras/src/layers/rnn/rnn.py:204: UserWarning: Do not pass an `input_shape`/`input_dim` argument to a layer. When using Sequential models, prefer using an `Input(shape)` object as the first layer in the model instead.\n",
      "  super().__init__(**kwargs)\n"
     ]
    },
    {
     "name": "stdout",
     "output_type": "stream",
     "text": [
      "Epoch 34: early stopping\n",
      "Restoring model weights from the end of the best epoch: 14.\n"
     ]
    },
    {
     "name": "stderr",
     "output_type": "stream",
     "text": [
      "2025-01-13 04:51:48,721 - Validation loss: 0.00564\n",
      "2025-01-13 04:51:53,699 - \n",
      "--- Run 4 ---\n",
      "/home/yl2672496l/Yue/code/jupyter_env/lib/python3.12/site-packages/keras/src/layers/rnn/rnn.py:204: UserWarning: Do not pass an `input_shape`/`input_dim` argument to a layer. When using Sequential models, prefer using an `Input(shape)` object as the first layer in the model instead.\n",
      "  super().__init__(**kwargs)\n"
     ]
    },
    {
     "name": "stdout",
     "output_type": "stream",
     "text": [
      "Epoch 61: early stopping\n",
      "Restoring model weights from the end of the best epoch: 41.\n"
     ]
    },
    {
     "name": "stderr",
     "output_type": "stream",
     "text": [
      "2025-01-13 05:03:18,061 - Validation loss: 0.01326\n",
      "2025-01-13 05:03:18,065 - Run 4 has mse=0.013257408514618874, skipping.\n",
      "2025-01-13 05:03:18,066 - \n",
      "--- Run 5 ---\n"
     ]
    },
    {
     "name": "stdout",
     "output_type": "stream",
     "text": [
      "Epoch 48: early stopping\n",
      "Restoring model weights from the end of the best epoch: 28.\n"
     ]
    },
    {
     "name": "stderr",
     "output_type": "stream",
     "text": [
      "2025-01-13 05:12:01,916 - Validation loss: 0.00559\n",
      "2025-01-13 05:12:07,962 - \n",
      "--- Run 6 ---\n",
      "/home/yl2672496l/Yue/code/jupyter_env/lib/python3.12/site-packages/keras/src/layers/rnn/rnn.py:204: UserWarning: Do not pass an `input_shape`/`input_dim` argument to a layer. When using Sequential models, prefer using an `Input(shape)` object as the first layer in the model instead.\n",
      "  super().__init__(**kwargs)\n"
     ]
    },
    {
     "name": "stdout",
     "output_type": "stream",
     "text": [
      "Epoch 23: early stopping\n",
      "Restoring model weights from the end of the best epoch: 3.\n"
     ]
    },
    {
     "name": "stderr",
     "output_type": "stream",
     "text": [
      "2025-01-13 05:16:19,827 - Validation loss: 0.01967\n",
      "2025-01-13 05:16:19,830 - Run 6 has mse=0.019665325060486794, skipping.\n",
      "2025-01-13 05:16:19,832 - \n",
      "--- Run 7 ---\n"
     ]
    },
    {
     "name": "stdout",
     "output_type": "stream",
     "text": [
      "Epoch 53: early stopping\n",
      "Restoring model weights from the end of the best epoch: 33.\n"
     ]
    },
    {
     "name": "stderr",
     "output_type": "stream",
     "text": [
      "2025-01-13 05:25:36,744 - Validation loss: 0.00552\n",
      "2025-01-13 05:25:42,494 - \n",
      "--- Run 8 ---\n",
      "/home/yl2672496l/Yue/code/jupyter_env/lib/python3.12/site-packages/keras/src/layers/rnn/rnn.py:204: UserWarning: Do not pass an `input_shape`/`input_dim` argument to a layer. When using Sequential models, prefer using an `Input(shape)` object as the first layer in the model instead.\n",
      "  super().__init__(**kwargs)\n"
     ]
    },
    {
     "name": "stdout",
     "output_type": "stream",
     "text": [
      "Epoch 44: early stopping\n",
      "Restoring model weights from the end of the best epoch: 24.\n"
     ]
    },
    {
     "name": "stderr",
     "output_type": "stream",
     "text": [
      "2025-01-13 05:33:29,040 - Validation loss: 0.00570\n",
      "2025-01-13 05:33:34,298 - \n",
      "--- Run 9 ---\n",
      "/home/yl2672496l/Yue/code/jupyter_env/lib/python3.12/site-packages/keras/src/layers/rnn/rnn.py:204: UserWarning: Do not pass an `input_shape`/`input_dim` argument to a layer. When using Sequential models, prefer using an `Input(shape)` object as the first layer in the model instead.\n",
      "  super().__init__(**kwargs)\n"
     ]
    },
    {
     "name": "stdout",
     "output_type": "stream",
     "text": [
      "Epoch 40: early stopping\n",
      "Restoring model weights from the end of the best epoch: 20.\n"
     ]
    },
    {
     "name": "stderr",
     "output_type": "stream",
     "text": [
      "2025-01-13 05:40:22,334 - Validation loss: 0.00567\n",
      "2025-01-13 05:40:27,751 - \n",
      "--- Run 10 ---\n",
      "/home/yl2672496l/Yue/code/jupyter_env/lib/python3.12/site-packages/keras/src/layers/rnn/rnn.py:204: UserWarning: Do not pass an `input_shape`/`input_dim` argument to a layer. When using Sequential models, prefer using an `Input(shape)` object as the first layer in the model instead.\n",
      "  super().__init__(**kwargs)\n"
     ]
    },
    {
     "name": "stdout",
     "output_type": "stream",
     "text": [
      "Epoch 41: early stopping\n",
      "Restoring model weights from the end of the best epoch: 21.\n"
     ]
    },
    {
     "name": "stderr",
     "output_type": "stream",
     "text": [
      "2025-01-13 05:47:27,315 - Validation loss: 0.00574\n",
      "2025-01-13 05:47:33,103 - \n",
      "--- Aggregated Mean of All Metrics Across 10(Successful) Runs ---\n",
      "2025-01-13 05:47:33,106 - \n",
      " MAE_train  RMSE_train  MAPE (%)_train   MAE_val  RMSE_val  MAPE (%)_val  MAE_test  RMSE_test  MAPE (%)_test\n",
      " 22.803459   32.110652    7.577846e+10 20.646787 32.056396     37.303585 23.005045  33.472334      26.451181\n",
      " 25.319244   35.661641    1.134349e+11 23.339565 36.761639     42.026295 26.884089  39.335143      30.953135\n",
      " 26.278163   37.153974    1.450604e+11 24.232111 38.727691     43.544529 28.543338  41.877545      33.327479\n",
      " 27.073762   37.887404    1.751645e+11 25.229256 39.809423     49.778754 29.707718  43.337379      37.810941\n",
      " 28.000700   39.036776    1.986458e+11 26.095277 40.854141     55.257476 30.785630  44.917477      41.768766\n",
      " 28.939585   40.100789    2.186869e+11 26.985615 41.805527     61.243478 31.592956  46.126067      44.771984\n"
     ]
    },
    {
     "data": {
      "text/html": [
       "<div>\n",
       "<style scoped>\n",
       "    .dataframe tbody tr th:only-of-type {\n",
       "        vertical-align: middle;\n",
       "    }\n",
       "\n",
       "    .dataframe tbody tr th {\n",
       "        vertical-align: top;\n",
       "    }\n",
       "\n",
       "    .dataframe thead th {\n",
       "        text-align: right;\n",
       "    }\n",
       "</style>\n",
       "<table border=\"1\" class=\"dataframe\">\n",
       "  <thead>\n",
       "    <tr style=\"text-align: right;\">\n",
       "      <th></th>\n",
       "      <th>MAE_train</th>\n",
       "      <th>RMSE_train</th>\n",
       "      <th>MAPE (%)_train</th>\n",
       "      <th>MAE_val</th>\n",
       "      <th>RMSE_val</th>\n",
       "      <th>MAPE (%)_val</th>\n",
       "      <th>MAE_test</th>\n",
       "      <th>RMSE_test</th>\n",
       "      <th>MAPE (%)_test</th>\n",
       "    </tr>\n",
       "    <tr>\n",
       "      <th>48</th>\n",
       "      <th></th>\n",
       "      <th></th>\n",
       "      <th></th>\n",
       "      <th></th>\n",
       "      <th></th>\n",
       "      <th></th>\n",
       "      <th></th>\n",
       "      <th></th>\n",
       "      <th></th>\n",
       "    </tr>\n",
       "  </thead>\n",
       "  <tbody>\n",
       "    <tr>\n",
       "      <th>1</th>\n",
       "      <td>22.803459</td>\n",
       "      <td>32.110652</td>\n",
       "      <td>7.577846e+10</td>\n",
       "      <td>20.646787</td>\n",
       "      <td>32.056396</td>\n",
       "      <td>37.303585</td>\n",
       "      <td>23.005045</td>\n",
       "      <td>33.472334</td>\n",
       "      <td>26.451181</td>\n",
       "    </tr>\n",
       "    <tr>\n",
       "      <th>2</th>\n",
       "      <td>25.319244</td>\n",
       "      <td>35.661641</td>\n",
       "      <td>1.134349e+11</td>\n",
       "      <td>23.339565</td>\n",
       "      <td>36.761639</td>\n",
       "      <td>42.026295</td>\n",
       "      <td>26.884089</td>\n",
       "      <td>39.335143</td>\n",
       "      <td>30.953135</td>\n",
       "    </tr>\n",
       "    <tr>\n",
       "      <th>3</th>\n",
       "      <td>26.278163</td>\n",
       "      <td>37.153974</td>\n",
       "      <td>1.450604e+11</td>\n",
       "      <td>24.232111</td>\n",
       "      <td>38.727691</td>\n",
       "      <td>43.544529</td>\n",
       "      <td>28.543338</td>\n",
       "      <td>41.877545</td>\n",
       "      <td>33.327479</td>\n",
       "    </tr>\n",
       "    <tr>\n",
       "      <th>4</th>\n",
       "      <td>27.073762</td>\n",
       "      <td>37.887404</td>\n",
       "      <td>1.751645e+11</td>\n",
       "      <td>25.229256</td>\n",
       "      <td>39.809423</td>\n",
       "      <td>49.778754</td>\n",
       "      <td>29.707718</td>\n",
       "      <td>43.337379</td>\n",
       "      <td>37.810941</td>\n",
       "    </tr>\n",
       "    <tr>\n",
       "      <th>5</th>\n",
       "      <td>28.000700</td>\n",
       "      <td>39.036776</td>\n",
       "      <td>1.986458e+11</td>\n",
       "      <td>26.095277</td>\n",
       "      <td>40.854141</td>\n",
       "      <td>55.257476</td>\n",
       "      <td>30.785630</td>\n",
       "      <td>44.917477</td>\n",
       "      <td>41.768766</td>\n",
       "    </tr>\n",
       "    <tr>\n",
       "      <th>6</th>\n",
       "      <td>28.939585</td>\n",
       "      <td>40.100789</td>\n",
       "      <td>2.186869e+11</td>\n",
       "      <td>26.985615</td>\n",
       "      <td>41.805527</td>\n",
       "      <td>61.243478</td>\n",
       "      <td>31.592956</td>\n",
       "      <td>46.126067</td>\n",
       "      <td>44.771984</td>\n",
       "    </tr>\n",
       "  </tbody>\n",
       "</table>\n",
       "</div>"
      ],
      "text/plain": [
       "    MAE_train  RMSE_train  MAPE (%)_train    MAE_val   RMSE_val  MAPE (%)_val  \\\n",
       "48                                                                              \n",
       "1   22.803459   32.110652    7.577846e+10  20.646787  32.056396     37.303585   \n",
       "2   25.319244   35.661641    1.134349e+11  23.339565  36.761639     42.026295   \n",
       "3   26.278163   37.153974    1.450604e+11  24.232111  38.727691     43.544529   \n",
       "4   27.073762   37.887404    1.751645e+11  25.229256  39.809423     49.778754   \n",
       "5   28.000700   39.036776    1.986458e+11  26.095277  40.854141     55.257476   \n",
       "6   28.939585   40.100789    2.186869e+11  26.985615  41.805527     61.243478   \n",
       "\n",
       "     MAE_test  RMSE_test  MAPE (%)_test  \n",
       "48                                       \n",
       "1   23.005045  33.472334      26.451181  \n",
       "2   26.884089  39.335143      30.953135  \n",
       "3   28.543338  41.877545      33.327479  \n",
       "4   29.707718  43.337379      37.810941  \n",
       "5   30.785630  44.917477      41.768766  \n",
       "6   31.592956  46.126067      44.771984  "
      ]
     },
     "metadata": {},
     "output_type": "display_data"
    },
    {
     "name": "stderr",
     "output_type": "stream",
     "text": [
      "2025-01-13 05:47:33,116 - \n",
      "--- Final Mean Metrics Across 10 Runs ---\n",
      "2025-01-13 05:47:33,120 - \n",
      " input_len  MSE_val(loss)  MAE_train  RMSE_train  MAPE (%)_train   MAE_val  RMSE_val  MAPE (%)_val  MAE_test  RMSE_test  MAPE (%)_test\n",
      "     336.0       0.006057  25.657465   35.649758    1.868045e+11 24.441407 39.557585     44.706346 29.339979  43.807638      37.848573\n",
      "      48.0       0.005691  26.402485   36.991873    1.544618e+11 24.421435 38.335803     48.192353 28.419796  41.510991      35.847248\n"
     ]
    },
    {
     "data": {
      "text/html": [
       "<div>\n",
       "<style scoped>\n",
       "    .dataframe tbody tr th:only-of-type {\n",
       "        vertical-align: middle;\n",
       "    }\n",
       "\n",
       "    .dataframe tbody tr th {\n",
       "        vertical-align: top;\n",
       "    }\n",
       "\n",
       "    .dataframe thead th {\n",
       "        text-align: right;\n",
       "    }\n",
       "</style>\n",
       "<table border=\"1\" class=\"dataframe\">\n",
       "  <thead>\n",
       "    <tr style=\"text-align: right;\">\n",
       "      <th></th>\n",
       "      <th>input_len</th>\n",
       "      <th>MSE_val(loss)</th>\n",
       "      <th>MAE_train</th>\n",
       "      <th>RMSE_train</th>\n",
       "      <th>MAPE (%)_train</th>\n",
       "      <th>MAE_val</th>\n",
       "      <th>RMSE_val</th>\n",
       "      <th>MAPE (%)_val</th>\n",
       "      <th>MAE_test</th>\n",
       "      <th>RMSE_test</th>\n",
       "      <th>MAPE (%)_test</th>\n",
       "    </tr>\n",
       "  </thead>\n",
       "  <tbody>\n",
       "    <tr>\n",
       "      <th>0</th>\n",
       "      <td>336.0</td>\n",
       "      <td>0.006057</td>\n",
       "      <td>25.657465</td>\n",
       "      <td>35.649758</td>\n",
       "      <td>1.868045e+11</td>\n",
       "      <td>24.441407</td>\n",
       "      <td>39.557585</td>\n",
       "      <td>44.706346</td>\n",
       "      <td>29.339979</td>\n",
       "      <td>43.807638</td>\n",
       "      <td>37.848573</td>\n",
       "    </tr>\n",
       "    <tr>\n",
       "      <th>1</th>\n",
       "      <td>48.0</td>\n",
       "      <td>0.005691</td>\n",
       "      <td>26.402485</td>\n",
       "      <td>36.991873</td>\n",
       "      <td>1.544618e+11</td>\n",
       "      <td>24.421435</td>\n",
       "      <td>38.335803</td>\n",
       "      <td>48.192353</td>\n",
       "      <td>28.419796</td>\n",
       "      <td>41.510991</td>\n",
       "      <td>35.847248</td>\n",
       "    </tr>\n",
       "  </tbody>\n",
       "</table>\n",
       "</div>"
      ],
      "text/plain": [
       "   input_len  MSE_val(loss)  MAE_train  RMSE_train  MAPE (%)_train    MAE_val  \\\n",
       "0      336.0       0.006057  25.657465   35.649758    1.868045e+11  24.441407   \n",
       "1       48.0       0.005691  26.402485   36.991873    1.544618e+11  24.421435   \n",
       "\n",
       "    RMSE_val  MAPE (%)_val   MAE_test  RMSE_test  MAPE (%)_test  \n",
       "0  39.557585     44.706346  29.339979  43.807638      37.848573  \n",
       "1  38.335803     48.192353  28.419796  41.510991      35.847248  "
      ]
     },
     "execution_count": 22,
     "metadata": {},
     "output_type": "execute_result"
    }
   ],
   "source": [
    "mean_metrics_list=[]\n",
    "#for length in best_hyperparameters_improved_model.keys():\n",
    "for length in [336,48]:\n",
    "    logging.info(length)\n",
    "    \n",
    "    # Number of runs\n",
    "    n_runs = 10\n",
    "    \n",
    "    # get the best hyperparameter of each length\n",
    "    #hyperparams = best_hyperparameters_improved_model[length]\n",
    "    hyperparams = best_hyperparameters_improved_model_lstm[length]\n",
    "    \n",
    "    # Initialize lists to store mean metrics and all metrics from each run\n",
    "    mean_metrics_rows = []\n",
    "    df_all_metrics_list = []\n",
    "    successful_runs = []  # To track runs with valid mse\n",
    "\n",
    "    for run in range(1, n_runs + 1):\n",
    "        logging.info(f\"\\n--- Run {run} ---\")\n",
    "\n",
    "        # Optionally set a unique seed for each run to ensure variability\n",
    "        seed = run\n",
    "        # Train the model\n",
    "        model, mse = train_model(hyperparams, data_dict, length, seed=seed)\n",
    "        \n",
    "        if not np.isnan(mse):  # Only proceed if mse is valid\n",
    "\n",
    "            if mse>0.007:\n",
    "                logging.info(f\"Run {run} has mse={mse}, skipping.\")\n",
    "            else:\n",
    "                successful_runs.append(run)\n",
    "            \n",
    "                X_train = data_dict[length]['X_train']\n",
    "                y_train = data_dict[length]['y_train']\n",
    "                X_val = data_dict[length]['X_val']\n",
    "                y_val = data_dict[length]['y_val']\n",
    "                X_test = data_dict[length]['X_test']\n",
    "                y_test = data_dict[length]['y_test']\n",
    "    \n",
    "                #get the true flow and predicted flow\n",
    "                y_pred_train, y_obs_train = make_prediction(model, X_train, y_train)\n",
    "                y_pred_val, y_obs_val = make_prediction(model, X_val, y_val)\n",
    "                y_pred_test, y_obs_test = make_prediction(model, X_test, y_test)\n",
    "    \n",
    "                #calculate the evaluation metrics of each output step\n",
    "                df_train = evaluation(y_pred_train, y_obs_train).add_suffix('_train')\n",
    "                df_val = evaluation(y_pred_val, y_obs_val).add_suffix('_val')\n",
    "                df_test = evaluation(y_pred_test, y_obs_test).add_suffix('_test')\n",
    "    \n",
    "                df_all_metrics = pd.concat([df_train, df_val, df_test], axis=1)\n",
    "                df_all_metrics.index.name = length\n",
    "    \n",
    "                # Append df_all_metrics to the list\n",
    "                df_all_metrics_list.append(df_all_metrics)\n",
    "    \n",
    "                # Calculate mean for all output step\n",
    "                #mean_metrics = df_val.mean()\n",
    "                mean_metrics = pd.concat([df_train.mean(), df_val.mean(), df_test.mean()])\n",
    "                mean_metrics_row = pd.DataFrame(mean_metrics).T\n",
    "                mean_metrics_row['MSE_val(loss)'] = mse\n",
    "                mean_metrics_row['input_len'] = length\n",
    "                #mean_metrics_row = mean_metrics_row[['input_len','MSE_val(loss)', 'MAE_val', 'RMSE_val', 'MAPE (%)_val']]\n",
    "                mean_metrics_row = mean_metrics_row[['input_len', 'MSE_val(loss)', 'MAE_train', 'RMSE_train', 'MAPE (%)_train',\n",
    "                                                 'MAE_val', 'RMSE_val', 'MAPE (%)_val',\n",
    "                                                 'MAE_test', 'RMSE_test', 'MAPE (%)_test']]\n",
    "    \n",
    "                # Append to the list\n",
    "                mean_metrics_rows.append(mean_metrics_row)\n",
    "        else:\n",
    "            logging.info(f\"Run {run} has mse=NaN, skipping.\")\n",
    "            \n",
    "    # Check if there are successful runs before proceeding\n",
    "    if successful_runs:       \n",
    "        # Concatenate all df_all_metrics into a single DataFrame with a new level for runs\n",
    "        concatenated_all_metrics = pd.concat(df_all_metrics_list, keys=successful_runs, names=['Run', 'Time Step'])\n",
    "\n",
    "        # Calculate the mean across runs for each metric and time step\n",
    "        # This will group by 'Time Step' and calculate the mean of each metric across all runs\n",
    "        aggregated_all_metrics_mean = concatenated_all_metrics.groupby('Time Step').mean()\n",
    "        aggregated_all_metrics_mean.index.name = length\n",
    "\n",
    "        logging.info(\"\\n--- Aggregated Mean of All Metrics Across 10(Successful) Runs ---\")\n",
    "        # Convert DataFrame to string\n",
    "        aggregated_all_metrics_mean_str = aggregated_all_metrics_mean.to_string(index=False)    \n",
    "        # Log the DataFrame\n",
    "        logging.info(\"\\n\" + aggregated_all_metrics_mean_str)\n",
    "        display(aggregated_all_metrics_mean)\n",
    "    else:\n",
    "        logging.info(f\"No successful runs for input length {length}.\")\n",
    "\n",
    "    # Check if mean metrics were calculated\n",
    "    if mean_metrics_rows:        \n",
    "        # After all runs, create a DataFrame of mean metrics\n",
    "        mean_metrics_df = pd.concat(mean_metrics_rows, ignore_index=True)\n",
    "        # Calculate the mean of each metric across the 10 runs\n",
    "        final_mean_metrics = mean_metrics_df.mean()\n",
    "\n",
    "        # Create a DataFrame for the final mean metrics\n",
    "        final_mean_metrics_df = pd.DataFrame(final_mean_metrics).T\n",
    "\n",
    "        mean_metrics_list.append(final_mean_metrics_df)\n",
    "    else:\n",
    "        logging.info(f\"No mean metrics calculated for input length {length}.\")\n",
    "\n",
    "mean_metrics_df = pd.concat(mean_metrics_list).reset_index(drop=True)\n",
    "logging.info(\"\\n--- Final Mean Metrics Across 10 Runs ---\")\n",
    "# Convert DataFrame to string\n",
    "mean_metrics_df_str = mean_metrics_df.to_string(index=False)    \n",
    "# Log the DataFrame\n",
    "logging.info(\"\\n\" + mean_metrics_df_str)\n",
    "mean_metrics_df"
   ]
  },
  {
   "cell_type": "code",
   "execution_count": null,
   "id": "ecc921ff-34a3-40ae-9a21-925d49254ad3",
   "metadata": {},
   "outputs": [],
   "source": []
  }
 ],
 "metadata": {
  "kernelspec": {
   "display_name": "Python 3 (ipykernel)",
   "language": "python",
   "name": "python3"
  },
  "language_info": {
   "codemirror_mode": {
    "name": "ipython",
    "version": 3
   },
   "file_extension": ".py",
   "mimetype": "text/x-python",
   "name": "python",
   "nbconvert_exporter": "python",
   "pygments_lexer": "ipython3",
   "version": "3.12.3"
  }
 },
 "nbformat": 4,
 "nbformat_minor": 5
}
